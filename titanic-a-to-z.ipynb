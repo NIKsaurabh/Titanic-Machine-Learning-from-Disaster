{
 "cells": [
  {
   "cell_type": "markdown",
   "metadata": {
    "papermill": {
     "duration": 0.018899,
     "end_time": "2020-09-09T17:50:37.601642",
     "exception": false,
     "start_time": "2020-09-09T17:50:37.582743",
     "status": "completed"
    },
    "tags": []
   },
   "source": [
    "# Importing libraries"
   ]
  },
  {
   "cell_type": "code",
   "execution_count": 3,
   "metadata": {
    "execution": {
     "iopub.execute_input": "2020-09-09T17:50:37.645154Z",
     "iopub.status.busy": "2020-09-09T17:50:37.644155Z",
     "iopub.status.idle": "2020-09-09T17:50:39.855961Z",
     "shell.execute_reply": "2020-09-09T17:50:39.855308Z"
    },
    "papermill": {
     "duration": 2.234967,
     "end_time": "2020-09-09T17:50:39.856082",
     "exception": false,
     "start_time": "2020-09-09T17:50:37.621115",
     "status": "completed"
    },
    "tags": []
   },
   "outputs": [],
   "source": [
    "import numpy as np\n",
    "import pandas as pd\n",
    "import matplotlib.pyplot as plt\n",
    "import seaborn as sns\n",
    "from sklearn.model_selection import StratifiedKFold\n",
    "from sklearn.model_selection import GridSearchCV\n",
    "from sklearn.model_selection import cross_val_score\n",
    "from sklearn.metrics import confusion_matrix, roc_auc_score ,roc_curve,auc\n",
    "from sklearn.linear_model import LogisticRegression\n",
    "import xgboost as xgb\n",
    "from collections import Counter\n",
    "%matplotlib inline\n",
    "import warnings\n",
    "warnings.filterwarnings('ignore')\n",
    "warnings.filterwarnings('ignore', category=DeprecationWarning)"
   ]
  },
  {
   "cell_type": "markdown",
   "metadata": {
    "papermill": {
     "duration": 0.018864,
     "end_time": "2020-09-09T17:50:39.894974",
     "exception": false,
     "start_time": "2020-09-09T17:50:39.876110",
     "status": "completed"
    },
    "tags": []
   },
   "source": [
    "# Loading the dataset"
   ]
  },
  {
   "cell_type": "code",
   "execution_count": 4,
   "metadata": {
    "_cell_guid": "79c7e3d0-c299-4dcb-8224-4455121ee9b0",
    "_uuid": "d629ff2d2480ee46fbb7e2d37f6b5fab8052498a",
    "execution": {
     "iopub.execute_input": "2020-09-09T17:50:39.941453Z",
     "iopub.status.busy": "2020-09-09T17:50:39.940654Z",
     "iopub.status.idle": "2020-09-09T17:50:39.962025Z",
     "shell.execute_reply": "2020-09-09T17:50:39.962651Z"
    },
    "papermill": {
     "duration": 0.048772,
     "end_time": "2020-09-09T17:50:39.962830",
     "exception": false,
     "start_time": "2020-09-09T17:50:39.914058",
     "status": "completed"
    },
    "tags": []
   },
   "outputs": [],
   "source": [
    "train = pd.read_csv('train.csv')\n",
    "test = pd.read_csv('test.csv')"
   ]
  },
  {
   "cell_type": "code",
   "execution_count": 5,
   "metadata": {
    "execution": {
     "iopub.execute_input": "2020-09-09T17:50:40.006357Z",
     "iopub.status.busy": "2020-09-09T17:50:40.005297Z",
     "iopub.status.idle": "2020-09-09T17:50:40.036295Z",
     "shell.execute_reply": "2020-09-09T17:50:40.035786Z"
    },
    "papermill": {
     "duration": 0.053931,
     "end_time": "2020-09-09T17:50:40.036417",
     "exception": false,
     "start_time": "2020-09-09T17:50:39.982486",
     "status": "completed"
    },
    "tags": []
   },
   "outputs": [
    {
     "name": "stdout",
     "output_type": "stream",
     "text": [
      "(891, 12)\n"
     ]
    },
    {
     "data": {
      "text/html": [
       "<div>\n",
       "<style scoped>\n",
       "    .dataframe tbody tr th:only-of-type {\n",
       "        vertical-align: middle;\n",
       "    }\n",
       "\n",
       "    .dataframe tbody tr th {\n",
       "        vertical-align: top;\n",
       "    }\n",
       "\n",
       "    .dataframe thead th {\n",
       "        text-align: right;\n",
       "    }\n",
       "</style>\n",
       "<table border=\"1\" class=\"dataframe\">\n",
       "  <thead>\n",
       "    <tr style=\"text-align: right;\">\n",
       "      <th></th>\n",
       "      <th>PassengerId</th>\n",
       "      <th>Survived</th>\n",
       "      <th>Pclass</th>\n",
       "      <th>Name</th>\n",
       "      <th>Sex</th>\n",
       "      <th>Age</th>\n",
       "      <th>SibSp</th>\n",
       "      <th>Parch</th>\n",
       "      <th>Ticket</th>\n",
       "      <th>Fare</th>\n",
       "      <th>Cabin</th>\n",
       "      <th>Embarked</th>\n",
       "    </tr>\n",
       "  </thead>\n",
       "  <tbody>\n",
       "    <tr>\n",
       "      <th>0</th>\n",
       "      <td>1</td>\n",
       "      <td>0</td>\n",
       "      <td>3</td>\n",
       "      <td>Braund, Mr. Owen Harris</td>\n",
       "      <td>male</td>\n",
       "      <td>22.0</td>\n",
       "      <td>1</td>\n",
       "      <td>0</td>\n",
       "      <td>A/5 21171</td>\n",
       "      <td>7.2500</td>\n",
       "      <td>NaN</td>\n",
       "      <td>S</td>\n",
       "    </tr>\n",
       "    <tr>\n",
       "      <th>1</th>\n",
       "      <td>2</td>\n",
       "      <td>1</td>\n",
       "      <td>1</td>\n",
       "      <td>Cumings, Mrs. John Bradley (Florence Briggs Th...</td>\n",
       "      <td>female</td>\n",
       "      <td>38.0</td>\n",
       "      <td>1</td>\n",
       "      <td>0</td>\n",
       "      <td>PC 17599</td>\n",
       "      <td>71.2833</td>\n",
       "      <td>C85</td>\n",
       "      <td>C</td>\n",
       "    </tr>\n",
       "    <tr>\n",
       "      <th>2</th>\n",
       "      <td>3</td>\n",
       "      <td>1</td>\n",
       "      <td>3</td>\n",
       "      <td>Heikkinen, Miss. Laina</td>\n",
       "      <td>female</td>\n",
       "      <td>26.0</td>\n",
       "      <td>0</td>\n",
       "      <td>0</td>\n",
       "      <td>STON/O2. 3101282</td>\n",
       "      <td>7.9250</td>\n",
       "      <td>NaN</td>\n",
       "      <td>S</td>\n",
       "    </tr>\n",
       "    <tr>\n",
       "      <th>3</th>\n",
       "      <td>4</td>\n",
       "      <td>1</td>\n",
       "      <td>1</td>\n",
       "      <td>Futrelle, Mrs. Jacques Heath (Lily May Peel)</td>\n",
       "      <td>female</td>\n",
       "      <td>35.0</td>\n",
       "      <td>1</td>\n",
       "      <td>0</td>\n",
       "      <td>113803</td>\n",
       "      <td>53.1000</td>\n",
       "      <td>C123</td>\n",
       "      <td>S</td>\n",
       "    </tr>\n",
       "    <tr>\n",
       "      <th>4</th>\n",
       "      <td>5</td>\n",
       "      <td>0</td>\n",
       "      <td>3</td>\n",
       "      <td>Allen, Mr. William Henry</td>\n",
       "      <td>male</td>\n",
       "      <td>35.0</td>\n",
       "      <td>0</td>\n",
       "      <td>0</td>\n",
       "      <td>373450</td>\n",
       "      <td>8.0500</td>\n",
       "      <td>NaN</td>\n",
       "      <td>S</td>\n",
       "    </tr>\n",
       "  </tbody>\n",
       "</table>\n",
       "</div>"
      ],
      "text/plain": [
       "   PassengerId  Survived  Pclass  \\\n",
       "0            1         0       3   \n",
       "1            2         1       1   \n",
       "2            3         1       3   \n",
       "3            4         1       1   \n",
       "4            5         0       3   \n",
       "\n",
       "                                                Name     Sex   Age  SibSp  \\\n",
       "0                            Braund, Mr. Owen Harris    male  22.0      1   \n",
       "1  Cumings, Mrs. John Bradley (Florence Briggs Th...  female  38.0      1   \n",
       "2                             Heikkinen, Miss. Laina  female  26.0      0   \n",
       "3       Futrelle, Mrs. Jacques Heath (Lily May Peel)  female  35.0      1   \n",
       "4                           Allen, Mr. William Henry    male  35.0      0   \n",
       "\n",
       "   Parch            Ticket     Fare Cabin Embarked  \n",
       "0      0         A/5 21171   7.2500   NaN        S  \n",
       "1      0          PC 17599  71.2833   C85        C  \n",
       "2      0  STON/O2. 3101282   7.9250   NaN        S  \n",
       "3      0            113803  53.1000  C123        S  \n",
       "4      0            373450   8.0500   NaN        S  "
      ]
     },
     "execution_count": 5,
     "metadata": {},
     "output_type": "execute_result"
    }
   ],
   "source": [
    "print(train.shape)\n",
    "train.head()"
   ]
  },
  {
   "cell_type": "code",
   "execution_count": 6,
   "metadata": {
    "execution": {
     "iopub.execute_input": "2020-09-09T17:50:40.092582Z",
     "iopub.status.busy": "2020-09-09T17:50:40.091613Z",
     "iopub.status.idle": "2020-09-09T17:50:40.098210Z",
     "shell.execute_reply": "2020-09-09T17:50:40.097679Z"
    },
    "papermill": {
     "duration": 0.042003,
     "end_time": "2020-09-09T17:50:40.098325",
     "exception": false,
     "start_time": "2020-09-09T17:50:40.056322",
     "status": "completed"
    },
    "tags": []
   },
   "outputs": [
    {
     "name": "stdout",
     "output_type": "stream",
     "text": [
      "(418, 11)\n"
     ]
    },
    {
     "data": {
      "text/html": [
       "<div>\n",
       "<style scoped>\n",
       "    .dataframe tbody tr th:only-of-type {\n",
       "        vertical-align: middle;\n",
       "    }\n",
       "\n",
       "    .dataframe tbody tr th {\n",
       "        vertical-align: top;\n",
       "    }\n",
       "\n",
       "    .dataframe thead th {\n",
       "        text-align: right;\n",
       "    }\n",
       "</style>\n",
       "<table border=\"1\" class=\"dataframe\">\n",
       "  <thead>\n",
       "    <tr style=\"text-align: right;\">\n",
       "      <th></th>\n",
       "      <th>PassengerId</th>\n",
       "      <th>Pclass</th>\n",
       "      <th>Name</th>\n",
       "      <th>Sex</th>\n",
       "      <th>Age</th>\n",
       "      <th>SibSp</th>\n",
       "      <th>Parch</th>\n",
       "      <th>Ticket</th>\n",
       "      <th>Fare</th>\n",
       "      <th>Cabin</th>\n",
       "      <th>Embarked</th>\n",
       "    </tr>\n",
       "  </thead>\n",
       "  <tbody>\n",
       "    <tr>\n",
       "      <th>0</th>\n",
       "      <td>892</td>\n",
       "      <td>3</td>\n",
       "      <td>Kelly, Mr. James</td>\n",
       "      <td>male</td>\n",
       "      <td>34.5</td>\n",
       "      <td>0</td>\n",
       "      <td>0</td>\n",
       "      <td>330911</td>\n",
       "      <td>7.8292</td>\n",
       "      <td>NaN</td>\n",
       "      <td>Q</td>\n",
       "    </tr>\n",
       "    <tr>\n",
       "      <th>1</th>\n",
       "      <td>893</td>\n",
       "      <td>3</td>\n",
       "      <td>Wilkes, Mrs. James (Ellen Needs)</td>\n",
       "      <td>female</td>\n",
       "      <td>47.0</td>\n",
       "      <td>1</td>\n",
       "      <td>0</td>\n",
       "      <td>363272</td>\n",
       "      <td>7.0000</td>\n",
       "      <td>NaN</td>\n",
       "      <td>S</td>\n",
       "    </tr>\n",
       "    <tr>\n",
       "      <th>2</th>\n",
       "      <td>894</td>\n",
       "      <td>2</td>\n",
       "      <td>Myles, Mr. Thomas Francis</td>\n",
       "      <td>male</td>\n",
       "      <td>62.0</td>\n",
       "      <td>0</td>\n",
       "      <td>0</td>\n",
       "      <td>240276</td>\n",
       "      <td>9.6875</td>\n",
       "      <td>NaN</td>\n",
       "      <td>Q</td>\n",
       "    </tr>\n",
       "    <tr>\n",
       "      <th>3</th>\n",
       "      <td>895</td>\n",
       "      <td>3</td>\n",
       "      <td>Wirz, Mr. Albert</td>\n",
       "      <td>male</td>\n",
       "      <td>27.0</td>\n",
       "      <td>0</td>\n",
       "      <td>0</td>\n",
       "      <td>315154</td>\n",
       "      <td>8.6625</td>\n",
       "      <td>NaN</td>\n",
       "      <td>S</td>\n",
       "    </tr>\n",
       "    <tr>\n",
       "      <th>4</th>\n",
       "      <td>896</td>\n",
       "      <td>3</td>\n",
       "      <td>Hirvonen, Mrs. Alexander (Helga E Lindqvist)</td>\n",
       "      <td>female</td>\n",
       "      <td>22.0</td>\n",
       "      <td>1</td>\n",
       "      <td>1</td>\n",
       "      <td>3101298</td>\n",
       "      <td>12.2875</td>\n",
       "      <td>NaN</td>\n",
       "      <td>S</td>\n",
       "    </tr>\n",
       "  </tbody>\n",
       "</table>\n",
       "</div>"
      ],
      "text/plain": [
       "   PassengerId  Pclass                                          Name     Sex  \\\n",
       "0          892       3                              Kelly, Mr. James    male   \n",
       "1          893       3              Wilkes, Mrs. James (Ellen Needs)  female   \n",
       "2          894       2                     Myles, Mr. Thomas Francis    male   \n",
       "3          895       3                              Wirz, Mr. Albert    male   \n",
       "4          896       3  Hirvonen, Mrs. Alexander (Helga E Lindqvist)  female   \n",
       "\n",
       "    Age  SibSp  Parch   Ticket     Fare Cabin Embarked  \n",
       "0  34.5      0      0   330911   7.8292   NaN        Q  \n",
       "1  47.0      1      0   363272   7.0000   NaN        S  \n",
       "2  62.0      0      0   240276   9.6875   NaN        Q  \n",
       "3  27.0      0      0   315154   8.6625   NaN        S  \n",
       "4  22.0      1      1  3101298  12.2875   NaN        S  "
      ]
     },
     "execution_count": 6,
     "metadata": {},
     "output_type": "execute_result"
    }
   ],
   "source": [
    "print(test.shape)\n",
    "test.head()"
   ]
  },
  {
   "cell_type": "markdown",
   "metadata": {
    "papermill": {
     "duration": 0.019795,
     "end_time": "2020-09-09T17:50:40.138200",
     "exception": false,
     "start_time": "2020-09-09T17:50:40.118405",
     "status": "completed"
    },
    "tags": []
   },
   "source": [
    "# Checking variables, NAs of the dataset"
   ]
  },
  {
   "cell_type": "code",
   "execution_count": 7,
   "metadata": {
    "execution": {
     "iopub.execute_input": "2020-09-09T17:50:40.192699Z",
     "iopub.status.busy": "2020-09-09T17:50:40.191760Z",
     "iopub.status.idle": "2020-09-09T17:50:40.202558Z",
     "shell.execute_reply": "2020-09-09T17:50:40.201590Z"
    },
    "papermill": {
     "duration": 0.043959,
     "end_time": "2020-09-09T17:50:40.202720",
     "exception": false,
     "start_time": "2020-09-09T17:50:40.158761",
     "status": "completed"
    },
    "tags": []
   },
   "outputs": [
    {
     "name": "stdout",
     "output_type": "stream",
     "text": [
      "<class 'pandas.core.frame.DataFrame'>\n",
      "RangeIndex: 891 entries, 0 to 890\n",
      "Data columns (total 12 columns):\n",
      " #   Column       Non-Null Count  Dtype  \n",
      "---  ------       --------------  -----  \n",
      " 0   PassengerId  891 non-null    int64  \n",
      " 1   Survived     891 non-null    int64  \n",
      " 2   Pclass       891 non-null    int64  \n",
      " 3   Name         891 non-null    object \n",
      " 4   Sex          891 non-null    object \n",
      " 5   Age          714 non-null    float64\n",
      " 6   SibSp        891 non-null    int64  \n",
      " 7   Parch        891 non-null    int64  \n",
      " 8   Ticket       891 non-null    object \n",
      " 9   Fare         891 non-null    float64\n",
      " 10  Cabin        204 non-null    object \n",
      " 11  Embarked     889 non-null    object \n",
      "dtypes: float64(2), int64(5), object(5)\n",
      "memory usage: 83.7+ KB\n"
     ]
    }
   ],
   "source": [
    "train.info()"
   ]
  },
  {
   "cell_type": "markdown",
   "metadata": {
    "papermill": {
     "duration": 0.0202,
     "end_time": "2020-09-09T17:50:40.244131",
     "exception": false,
     "start_time": "2020-09-09T17:50:40.223931",
     "status": "completed"
    },
    "tags": []
   },
   "source": [
    "In train dataset there are:\n",
    "* 177 null values in Age column\n",
    "* 687 null values in Cabin column\n",
    "* 2 null values in Embarked column"
   ]
  },
  {
   "cell_type": "code",
   "execution_count": 8,
   "metadata": {
    "execution": {
     "iopub.execute_input": "2020-09-09T17:50:40.297584Z",
     "iopub.status.busy": "2020-09-09T17:50:40.296778Z",
     "iopub.status.idle": "2020-09-09T17:50:40.300286Z",
     "shell.execute_reply": "2020-09-09T17:50:40.301128Z"
    },
    "papermill": {
     "duration": 0.036846,
     "end_time": "2020-09-09T17:50:40.301343",
     "exception": false,
     "start_time": "2020-09-09T17:50:40.264497",
     "status": "completed"
    },
    "tags": []
   },
   "outputs": [
    {
     "name": "stdout",
     "output_type": "stream",
     "text": [
      "<class 'pandas.core.frame.DataFrame'>\n",
      "RangeIndex: 418 entries, 0 to 417\n",
      "Data columns (total 11 columns):\n",
      " #   Column       Non-Null Count  Dtype  \n",
      "---  ------       --------------  -----  \n",
      " 0   PassengerId  418 non-null    int64  \n",
      " 1   Pclass       418 non-null    int64  \n",
      " 2   Name         418 non-null    object \n",
      " 3   Sex          418 non-null    object \n",
      " 4   Age          332 non-null    float64\n",
      " 5   SibSp        418 non-null    int64  \n",
      " 6   Parch        418 non-null    int64  \n",
      " 7   Ticket       418 non-null    object \n",
      " 8   Fare         417 non-null    float64\n",
      " 9   Cabin        91 non-null     object \n",
      " 10  Embarked     418 non-null    object \n",
      "dtypes: float64(2), int64(4), object(5)\n",
      "memory usage: 36.0+ KB\n"
     ]
    }
   ],
   "source": [
    "test.info()"
   ]
  },
  {
   "cell_type": "markdown",
   "metadata": {
    "papermill": {
     "duration": 0.020167,
     "end_time": "2020-09-09T17:50:40.343064",
     "exception": false,
     "start_time": "2020-09-09T17:50:40.322897",
     "status": "completed"
    },
    "tags": []
   },
   "source": [
    "In test dataset there are:\n",
    "* 86 null values in Age column\n",
    "* 1 null value in Fare column\n",
    "* 327 null values in Cabin column"
   ]
  },
  {
   "cell_type": "code",
   "execution_count": 9,
   "metadata": {
    "execution": {
     "iopub.execute_input": "2020-09-09T17:50:40.391064Z",
     "iopub.status.busy": "2020-09-09T17:50:40.390200Z",
     "iopub.status.idle": "2020-09-09T17:50:40.436982Z",
     "shell.execute_reply": "2020-09-09T17:50:40.437525Z"
    },
    "papermill": {
     "duration": 0.074095,
     "end_time": "2020-09-09T17:50:40.437684",
     "exception": false,
     "start_time": "2020-09-09T17:50:40.363589",
     "status": "completed"
    },
    "tags": []
   },
   "outputs": [
    {
     "data": {
      "text/html": [
       "<div>\n",
       "<style scoped>\n",
       "    .dataframe tbody tr th:only-of-type {\n",
       "        vertical-align: middle;\n",
       "    }\n",
       "\n",
       "    .dataframe tbody tr th {\n",
       "        vertical-align: top;\n",
       "    }\n",
       "\n",
       "    .dataframe thead th {\n",
       "        text-align: right;\n",
       "    }\n",
       "</style>\n",
       "<table border=\"1\" class=\"dataframe\">\n",
       "  <thead>\n",
       "    <tr style=\"text-align: right;\">\n",
       "      <th></th>\n",
       "      <th>PassengerId</th>\n",
       "      <th>Survived</th>\n",
       "      <th>Pclass</th>\n",
       "      <th>Name</th>\n",
       "      <th>Sex</th>\n",
       "      <th>Age</th>\n",
       "      <th>SibSp</th>\n",
       "      <th>Parch</th>\n",
       "      <th>Ticket</th>\n",
       "      <th>Fare</th>\n",
       "      <th>Cabin</th>\n",
       "      <th>Embarked</th>\n",
       "    </tr>\n",
       "  </thead>\n",
       "  <tbody>\n",
       "    <tr>\n",
       "      <th>count</th>\n",
       "      <td>891.000000</td>\n",
       "      <td>891.000000</td>\n",
       "      <td>891.000000</td>\n",
       "      <td>891</td>\n",
       "      <td>891</td>\n",
       "      <td>714.000000</td>\n",
       "      <td>891.000000</td>\n",
       "      <td>891.000000</td>\n",
       "      <td>891</td>\n",
       "      <td>891.000000</td>\n",
       "      <td>204</td>\n",
       "      <td>889</td>\n",
       "    </tr>\n",
       "    <tr>\n",
       "      <th>unique</th>\n",
       "      <td>NaN</td>\n",
       "      <td>NaN</td>\n",
       "      <td>NaN</td>\n",
       "      <td>891</td>\n",
       "      <td>2</td>\n",
       "      <td>NaN</td>\n",
       "      <td>NaN</td>\n",
       "      <td>NaN</td>\n",
       "      <td>681</td>\n",
       "      <td>NaN</td>\n",
       "      <td>147</td>\n",
       "      <td>3</td>\n",
       "    </tr>\n",
       "    <tr>\n",
       "      <th>top</th>\n",
       "      <td>NaN</td>\n",
       "      <td>NaN</td>\n",
       "      <td>NaN</td>\n",
       "      <td>Ayoub, Miss. Banoura</td>\n",
       "      <td>male</td>\n",
       "      <td>NaN</td>\n",
       "      <td>NaN</td>\n",
       "      <td>NaN</td>\n",
       "      <td>347082</td>\n",
       "      <td>NaN</td>\n",
       "      <td>B96 B98</td>\n",
       "      <td>S</td>\n",
       "    </tr>\n",
       "    <tr>\n",
       "      <th>freq</th>\n",
       "      <td>NaN</td>\n",
       "      <td>NaN</td>\n",
       "      <td>NaN</td>\n",
       "      <td>1</td>\n",
       "      <td>577</td>\n",
       "      <td>NaN</td>\n",
       "      <td>NaN</td>\n",
       "      <td>NaN</td>\n",
       "      <td>7</td>\n",
       "      <td>NaN</td>\n",
       "      <td>4</td>\n",
       "      <td>644</td>\n",
       "    </tr>\n",
       "    <tr>\n",
       "      <th>mean</th>\n",
       "      <td>446.000000</td>\n",
       "      <td>0.383838</td>\n",
       "      <td>2.308642</td>\n",
       "      <td>NaN</td>\n",
       "      <td>NaN</td>\n",
       "      <td>29.699118</td>\n",
       "      <td>0.523008</td>\n",
       "      <td>0.381594</td>\n",
       "      <td>NaN</td>\n",
       "      <td>32.204208</td>\n",
       "      <td>NaN</td>\n",
       "      <td>NaN</td>\n",
       "    </tr>\n",
       "    <tr>\n",
       "      <th>std</th>\n",
       "      <td>257.353842</td>\n",
       "      <td>0.486592</td>\n",
       "      <td>0.836071</td>\n",
       "      <td>NaN</td>\n",
       "      <td>NaN</td>\n",
       "      <td>14.526497</td>\n",
       "      <td>1.102743</td>\n",
       "      <td>0.806057</td>\n",
       "      <td>NaN</td>\n",
       "      <td>49.693429</td>\n",
       "      <td>NaN</td>\n",
       "      <td>NaN</td>\n",
       "    </tr>\n",
       "    <tr>\n",
       "      <th>min</th>\n",
       "      <td>1.000000</td>\n",
       "      <td>0.000000</td>\n",
       "      <td>1.000000</td>\n",
       "      <td>NaN</td>\n",
       "      <td>NaN</td>\n",
       "      <td>0.420000</td>\n",
       "      <td>0.000000</td>\n",
       "      <td>0.000000</td>\n",
       "      <td>NaN</td>\n",
       "      <td>0.000000</td>\n",
       "      <td>NaN</td>\n",
       "      <td>NaN</td>\n",
       "    </tr>\n",
       "    <tr>\n",
       "      <th>25%</th>\n",
       "      <td>223.500000</td>\n",
       "      <td>0.000000</td>\n",
       "      <td>2.000000</td>\n",
       "      <td>NaN</td>\n",
       "      <td>NaN</td>\n",
       "      <td>20.125000</td>\n",
       "      <td>0.000000</td>\n",
       "      <td>0.000000</td>\n",
       "      <td>NaN</td>\n",
       "      <td>7.910400</td>\n",
       "      <td>NaN</td>\n",
       "      <td>NaN</td>\n",
       "    </tr>\n",
       "    <tr>\n",
       "      <th>50%</th>\n",
       "      <td>446.000000</td>\n",
       "      <td>0.000000</td>\n",
       "      <td>3.000000</td>\n",
       "      <td>NaN</td>\n",
       "      <td>NaN</td>\n",
       "      <td>28.000000</td>\n",
       "      <td>0.000000</td>\n",
       "      <td>0.000000</td>\n",
       "      <td>NaN</td>\n",
       "      <td>14.454200</td>\n",
       "      <td>NaN</td>\n",
       "      <td>NaN</td>\n",
       "    </tr>\n",
       "    <tr>\n",
       "      <th>75%</th>\n",
       "      <td>668.500000</td>\n",
       "      <td>1.000000</td>\n",
       "      <td>3.000000</td>\n",
       "      <td>NaN</td>\n",
       "      <td>NaN</td>\n",
       "      <td>38.000000</td>\n",
       "      <td>1.000000</td>\n",
       "      <td>0.000000</td>\n",
       "      <td>NaN</td>\n",
       "      <td>31.000000</td>\n",
       "      <td>NaN</td>\n",
       "      <td>NaN</td>\n",
       "    </tr>\n",
       "    <tr>\n",
       "      <th>max</th>\n",
       "      <td>891.000000</td>\n",
       "      <td>1.000000</td>\n",
       "      <td>3.000000</td>\n",
       "      <td>NaN</td>\n",
       "      <td>NaN</td>\n",
       "      <td>80.000000</td>\n",
       "      <td>8.000000</td>\n",
       "      <td>6.000000</td>\n",
       "      <td>NaN</td>\n",
       "      <td>512.329200</td>\n",
       "      <td>NaN</td>\n",
       "      <td>NaN</td>\n",
       "    </tr>\n",
       "  </tbody>\n",
       "</table>\n",
       "</div>"
      ],
      "text/plain": [
       "        PassengerId    Survived      Pclass                  Name   Sex  \\\n",
       "count    891.000000  891.000000  891.000000                   891   891   \n",
       "unique          NaN         NaN         NaN                   891     2   \n",
       "top             NaN         NaN         NaN  Ayoub, Miss. Banoura  male   \n",
       "freq            NaN         NaN         NaN                     1   577   \n",
       "mean     446.000000    0.383838    2.308642                   NaN   NaN   \n",
       "std      257.353842    0.486592    0.836071                   NaN   NaN   \n",
       "min        1.000000    0.000000    1.000000                   NaN   NaN   \n",
       "25%      223.500000    0.000000    2.000000                   NaN   NaN   \n",
       "50%      446.000000    0.000000    3.000000                   NaN   NaN   \n",
       "75%      668.500000    1.000000    3.000000                   NaN   NaN   \n",
       "max      891.000000    1.000000    3.000000                   NaN   NaN   \n",
       "\n",
       "               Age       SibSp       Parch  Ticket        Fare    Cabin  \\\n",
       "count   714.000000  891.000000  891.000000     891  891.000000      204   \n",
       "unique         NaN         NaN         NaN     681         NaN      147   \n",
       "top            NaN         NaN         NaN  347082         NaN  B96 B98   \n",
       "freq           NaN         NaN         NaN       7         NaN        4   \n",
       "mean     29.699118    0.523008    0.381594     NaN   32.204208      NaN   \n",
       "std      14.526497    1.102743    0.806057     NaN   49.693429      NaN   \n",
       "min       0.420000    0.000000    0.000000     NaN    0.000000      NaN   \n",
       "25%      20.125000    0.000000    0.000000     NaN    7.910400      NaN   \n",
       "50%      28.000000    0.000000    0.000000     NaN   14.454200      NaN   \n",
       "75%      38.000000    1.000000    0.000000     NaN   31.000000      NaN   \n",
       "max      80.000000    8.000000    6.000000     NaN  512.329200      NaN   \n",
       "\n",
       "       Embarked  \n",
       "count       889  \n",
       "unique        3  \n",
       "top           S  \n",
       "freq        644  \n",
       "mean        NaN  \n",
       "std         NaN  \n",
       "min         NaN  \n",
       "25%         NaN  \n",
       "50%         NaN  \n",
       "75%         NaN  \n",
       "max         NaN  "
      ]
     },
     "execution_count": 9,
     "metadata": {},
     "output_type": "execute_result"
    }
   ],
   "source": [
    "train.describe(include='all')"
   ]
  },
  {
   "cell_type": "code",
   "execution_count": 10,
   "metadata": {
    "execution": {
     "iopub.execute_input": "2020-09-09T17:50:40.488911Z",
     "iopub.status.busy": "2020-09-09T17:50:40.488145Z",
     "iopub.status.idle": "2020-09-09T17:50:40.528191Z",
     "shell.execute_reply": "2020-09-09T17:50:40.527505Z"
    },
    "papermill": {
     "duration": 0.069304,
     "end_time": "2020-09-09T17:50:40.528341",
     "exception": false,
     "start_time": "2020-09-09T17:50:40.459037",
     "status": "completed"
    },
    "tags": []
   },
   "outputs": [
    {
     "data": {
      "text/html": [
       "<div>\n",
       "<style scoped>\n",
       "    .dataframe tbody tr th:only-of-type {\n",
       "        vertical-align: middle;\n",
       "    }\n",
       "\n",
       "    .dataframe tbody tr th {\n",
       "        vertical-align: top;\n",
       "    }\n",
       "\n",
       "    .dataframe thead th {\n",
       "        text-align: right;\n",
       "    }\n",
       "</style>\n",
       "<table border=\"1\" class=\"dataframe\">\n",
       "  <thead>\n",
       "    <tr style=\"text-align: right;\">\n",
       "      <th></th>\n",
       "      <th>PassengerId</th>\n",
       "      <th>Pclass</th>\n",
       "      <th>Name</th>\n",
       "      <th>Sex</th>\n",
       "      <th>Age</th>\n",
       "      <th>SibSp</th>\n",
       "      <th>Parch</th>\n",
       "      <th>Ticket</th>\n",
       "      <th>Fare</th>\n",
       "      <th>Cabin</th>\n",
       "      <th>Embarked</th>\n",
       "    </tr>\n",
       "  </thead>\n",
       "  <tbody>\n",
       "    <tr>\n",
       "      <th>count</th>\n",
       "      <td>418.000000</td>\n",
       "      <td>418.000000</td>\n",
       "      <td>418</td>\n",
       "      <td>418</td>\n",
       "      <td>332.000000</td>\n",
       "      <td>418.000000</td>\n",
       "      <td>418.000000</td>\n",
       "      <td>418</td>\n",
       "      <td>417.000000</td>\n",
       "      <td>91</td>\n",
       "      <td>418</td>\n",
       "    </tr>\n",
       "    <tr>\n",
       "      <th>unique</th>\n",
       "      <td>NaN</td>\n",
       "      <td>NaN</td>\n",
       "      <td>418</td>\n",
       "      <td>2</td>\n",
       "      <td>NaN</td>\n",
       "      <td>NaN</td>\n",
       "      <td>NaN</td>\n",
       "      <td>363</td>\n",
       "      <td>NaN</td>\n",
       "      <td>76</td>\n",
       "      <td>3</td>\n",
       "    </tr>\n",
       "    <tr>\n",
       "      <th>top</th>\n",
       "      <td>NaN</td>\n",
       "      <td>NaN</td>\n",
       "      <td>Samaan, Mr. Elias</td>\n",
       "      <td>male</td>\n",
       "      <td>NaN</td>\n",
       "      <td>NaN</td>\n",
       "      <td>NaN</td>\n",
       "      <td>PC 17608</td>\n",
       "      <td>NaN</td>\n",
       "      <td>B57 B59 B63 B66</td>\n",
       "      <td>S</td>\n",
       "    </tr>\n",
       "    <tr>\n",
       "      <th>freq</th>\n",
       "      <td>NaN</td>\n",
       "      <td>NaN</td>\n",
       "      <td>1</td>\n",
       "      <td>266</td>\n",
       "      <td>NaN</td>\n",
       "      <td>NaN</td>\n",
       "      <td>NaN</td>\n",
       "      <td>5</td>\n",
       "      <td>NaN</td>\n",
       "      <td>3</td>\n",
       "      <td>270</td>\n",
       "    </tr>\n",
       "    <tr>\n",
       "      <th>mean</th>\n",
       "      <td>1100.500000</td>\n",
       "      <td>2.265550</td>\n",
       "      <td>NaN</td>\n",
       "      <td>NaN</td>\n",
       "      <td>30.272590</td>\n",
       "      <td>0.447368</td>\n",
       "      <td>0.392344</td>\n",
       "      <td>NaN</td>\n",
       "      <td>35.627188</td>\n",
       "      <td>NaN</td>\n",
       "      <td>NaN</td>\n",
       "    </tr>\n",
       "    <tr>\n",
       "      <th>std</th>\n",
       "      <td>120.810458</td>\n",
       "      <td>0.841838</td>\n",
       "      <td>NaN</td>\n",
       "      <td>NaN</td>\n",
       "      <td>14.181209</td>\n",
       "      <td>0.896760</td>\n",
       "      <td>0.981429</td>\n",
       "      <td>NaN</td>\n",
       "      <td>55.907576</td>\n",
       "      <td>NaN</td>\n",
       "      <td>NaN</td>\n",
       "    </tr>\n",
       "    <tr>\n",
       "      <th>min</th>\n",
       "      <td>892.000000</td>\n",
       "      <td>1.000000</td>\n",
       "      <td>NaN</td>\n",
       "      <td>NaN</td>\n",
       "      <td>0.170000</td>\n",
       "      <td>0.000000</td>\n",
       "      <td>0.000000</td>\n",
       "      <td>NaN</td>\n",
       "      <td>0.000000</td>\n",
       "      <td>NaN</td>\n",
       "      <td>NaN</td>\n",
       "    </tr>\n",
       "    <tr>\n",
       "      <th>25%</th>\n",
       "      <td>996.250000</td>\n",
       "      <td>1.000000</td>\n",
       "      <td>NaN</td>\n",
       "      <td>NaN</td>\n",
       "      <td>21.000000</td>\n",
       "      <td>0.000000</td>\n",
       "      <td>0.000000</td>\n",
       "      <td>NaN</td>\n",
       "      <td>7.895800</td>\n",
       "      <td>NaN</td>\n",
       "      <td>NaN</td>\n",
       "    </tr>\n",
       "    <tr>\n",
       "      <th>50%</th>\n",
       "      <td>1100.500000</td>\n",
       "      <td>3.000000</td>\n",
       "      <td>NaN</td>\n",
       "      <td>NaN</td>\n",
       "      <td>27.000000</td>\n",
       "      <td>0.000000</td>\n",
       "      <td>0.000000</td>\n",
       "      <td>NaN</td>\n",
       "      <td>14.454200</td>\n",
       "      <td>NaN</td>\n",
       "      <td>NaN</td>\n",
       "    </tr>\n",
       "    <tr>\n",
       "      <th>75%</th>\n",
       "      <td>1204.750000</td>\n",
       "      <td>3.000000</td>\n",
       "      <td>NaN</td>\n",
       "      <td>NaN</td>\n",
       "      <td>39.000000</td>\n",
       "      <td>1.000000</td>\n",
       "      <td>0.000000</td>\n",
       "      <td>NaN</td>\n",
       "      <td>31.500000</td>\n",
       "      <td>NaN</td>\n",
       "      <td>NaN</td>\n",
       "    </tr>\n",
       "    <tr>\n",
       "      <th>max</th>\n",
       "      <td>1309.000000</td>\n",
       "      <td>3.000000</td>\n",
       "      <td>NaN</td>\n",
       "      <td>NaN</td>\n",
       "      <td>76.000000</td>\n",
       "      <td>8.000000</td>\n",
       "      <td>9.000000</td>\n",
       "      <td>NaN</td>\n",
       "      <td>512.329200</td>\n",
       "      <td>NaN</td>\n",
       "      <td>NaN</td>\n",
       "    </tr>\n",
       "  </tbody>\n",
       "</table>\n",
       "</div>"
      ],
      "text/plain": [
       "        PassengerId      Pclass               Name   Sex         Age  \\\n",
       "count    418.000000  418.000000                418   418  332.000000   \n",
       "unique          NaN         NaN                418     2         NaN   \n",
       "top             NaN         NaN  Samaan, Mr. Elias  male         NaN   \n",
       "freq            NaN         NaN                  1   266         NaN   \n",
       "mean    1100.500000    2.265550                NaN   NaN   30.272590   \n",
       "std      120.810458    0.841838                NaN   NaN   14.181209   \n",
       "min      892.000000    1.000000                NaN   NaN    0.170000   \n",
       "25%      996.250000    1.000000                NaN   NaN   21.000000   \n",
       "50%     1100.500000    3.000000                NaN   NaN   27.000000   \n",
       "75%     1204.750000    3.000000                NaN   NaN   39.000000   \n",
       "max     1309.000000    3.000000                NaN   NaN   76.000000   \n",
       "\n",
       "             SibSp       Parch    Ticket        Fare            Cabin Embarked  \n",
       "count   418.000000  418.000000       418  417.000000               91      418  \n",
       "unique         NaN         NaN       363         NaN               76        3  \n",
       "top            NaN         NaN  PC 17608         NaN  B57 B59 B63 B66        S  \n",
       "freq           NaN         NaN         5         NaN                3      270  \n",
       "mean      0.447368    0.392344       NaN   35.627188              NaN      NaN  \n",
       "std       0.896760    0.981429       NaN   55.907576              NaN      NaN  \n",
       "min       0.000000    0.000000       NaN    0.000000              NaN      NaN  \n",
       "25%       0.000000    0.000000       NaN    7.895800              NaN      NaN  \n",
       "50%       0.000000    0.000000       NaN   14.454200              NaN      NaN  \n",
       "75%       1.000000    0.000000       NaN   31.500000              NaN      NaN  \n",
       "max       8.000000    9.000000       NaN  512.329200              NaN      NaN  "
      ]
     },
     "execution_count": 10,
     "metadata": {},
     "output_type": "execute_result"
    }
   ],
   "source": [
    "test.describe(include='all')"
   ]
  },
  {
   "cell_type": "code",
   "execution_count": 11,
   "metadata": {
    "execution": {
     "iopub.execute_input": "2020-09-09T17:50:40.578313Z",
     "iopub.status.busy": "2020-09-09T17:50:40.577666Z",
     "iopub.status.idle": "2020-09-09T17:50:40.582216Z",
     "shell.execute_reply": "2020-09-09T17:50:40.581678Z"
    },
    "papermill": {
     "duration": 0.032577,
     "end_time": "2020-09-09T17:50:40.582346",
     "exception": false,
     "start_time": "2020-09-09T17:50:40.549769",
     "status": "completed"
    },
    "tags": []
   },
   "outputs": [
    {
     "data": {
      "text/plain": [
       "0    549\n",
       "1    342\n",
       "Name: Survived, dtype: int64"
      ]
     },
     "execution_count": 11,
     "metadata": {},
     "output_type": "execute_result"
    }
   ],
   "source": [
    "#Checking weather data is balanced or imbalanced\n",
    "train['Survived'].value_counts()"
   ]
  },
  {
   "cell_type": "markdown",
   "metadata": {
    "papermill": {
     "duration": 0.021227,
     "end_time": "2020-09-09T17:50:40.625030",
     "exception": false,
     "start_time": "2020-09-09T17:50:40.603803",
     "status": "completed"
    },
    "tags": []
   },
   "source": [
    "There are 549 0s and 342 1s, hence data is balanced."
   ]
  },
  {
   "cell_type": "markdown",
   "metadata": {
    "papermill": {
     "duration": 0.021173,
     "end_time": "2020-09-09T17:50:40.667351",
     "exception": false,
     "start_time": "2020-09-09T17:50:40.646178",
     "status": "completed"
    },
    "tags": []
   },
   "source": [
    "# Exploratory data analysis"
   ]
  },
  {
   "cell_type": "markdown",
   "metadata": {
    "papermill": {
     "duration": 0.020594,
     "end_time": "2020-09-09T17:50:40.709137",
     "exception": false,
     "start_time": "2020-09-09T17:50:40.688543",
     "status": "completed"
    },
    "tags": []
   },
   "source": [
    "Let's see who survived more, male or female."
   ]
  },
  {
   "cell_type": "code",
   "execution_count": 12,
   "metadata": {
    "execution": {
     "iopub.execute_input": "2020-09-09T17:50:40.772483Z",
     "iopub.status.busy": "2020-09-09T17:50:40.761616Z",
     "iopub.status.idle": "2020-09-09T17:50:41.007802Z",
     "shell.execute_reply": "2020-09-09T17:50:41.008380Z"
    },
    "papermill": {
     "duration": 0.277933,
     "end_time": "2020-09-09T17:50:41.008577",
     "exception": false,
     "start_time": "2020-09-09T17:50:40.730644",
     "status": "completed"
    },
    "tags": []
   },
   "outputs": [
    {
     "name": "stdout",
     "output_type": "stream",
     "text": [
      "        Survived\n",
      "Sex             \n",
      "female  0.742038\n",
      "male    0.188908\n"
     ]
    },
    {
     "data": {
      "text/plain": [
       "<matplotlib.axes._subplots.AxesSubplot at 0x7fdc3efffd90>"
      ]
     },
     "execution_count": 12,
     "metadata": {},
     "output_type": "execute_result"
    },
    {
     "data": {
      "image/png": "[encoded data removed]",
      "text/plain": [
       "<Figure size 432x288 with 1 Axes>"
      ]
     },
     "metadata": {
      "needs_background": "light"
     },
     "output_type": "display_data"
    }
   ],
   "source": [
    "print(train.pivot_table(values = 'Survived', index = 'Sex'))\n",
    "train.pivot_table(values = 'Survived', index = 'Sex').plot(kind = 'bar')"
   ]
  },
  {
   "cell_type": "markdown",
   "metadata": {
    "papermill": {
     "duration": 0.021516,
     "end_time": "2020-09-09T17:50:41.051902",
     "exception": false,
     "start_time": "2020-09-09T17:50:41.030386",
     "status": "completed"
    },
    "tags": []
   },
   "source": [
    "From above data and graph we can see that female survived more than male."
   ]
  },
  {
   "cell_type": "markdown",
   "metadata": {
    "papermill": {
     "duration": 0.021247,
     "end_time": "2020-09-09T17:50:41.094892",
     "exception": false,
     "start_time": "2020-09-09T17:50:41.073645",
     "status": "completed"
    },
    "tags": []
   },
   "source": [
    "Let's check which age group among male and female survived more."
   ]
  },
  {
   "cell_type": "code",
   "execution_count": 13,
   "metadata": {
    "execution": {
     "iopub.execute_input": "2020-09-09T17:50:41.151288Z",
     "iopub.status.busy": "2020-09-09T17:50:41.144889Z",
     "iopub.status.idle": "2020-09-09T17:50:41.361226Z",
     "shell.execute_reply": "2020-09-09T17:50:41.362032Z"
    },
    "papermill": {
     "duration": 0.245943,
     "end_time": "2020-09-09T17:50:41.362265",
     "exception": false,
     "start_time": "2020-09-09T17:50:41.116322",
     "status": "completed"
    },
    "tags": []
   },
   "outputs": [
    {
     "data": {
      "text/plain": [
       "Text(0.5, 1.0, 'Age distribution of male and female')"
      ]
     },
     "execution_count": 13,
     "metadata": {},
     "output_type": "execute_result"
    },
    {
     "data": {
      "image/png": "[encoded data removed]",
      "text/plain": [
       "<Figure size 432x288 with 1 Axes>"
      ]
     },
     "metadata": {
      "needs_background": "light"
     },
     "output_type": "display_data"
    }
   ],
   "source": [
    "sns.kdeplot(train[train['Sex']=='male']['Age'], label = 'male')\n",
    "sns.kdeplot(train[train['Sex']=='female']['Age'],label = 'female')\n",
    "plt.legend()\n",
    "plt.title('Age distribution of male and female')"
   ]
  },
  {
   "cell_type": "code",
   "execution_count": 14,
   "metadata": {
    "execution": {
     "iopub.execute_input": "2020-09-09T17:50:41.440174Z",
     "iopub.status.busy": "2020-09-09T17:50:41.439168Z",
     "iopub.status.idle": "2020-09-09T17:50:41.634120Z",
     "shell.execute_reply": "2020-09-09T17:50:41.633514Z"
    },
    "papermill": {
     "duration": 0.236141,
     "end_time": "2020-09-09T17:50:41.634240",
     "exception": false,
     "start_time": "2020-09-09T17:50:41.398099",
     "status": "completed"
    },
    "tags": []
   },
   "outputs": [
    {
     "data": {
      "text/plain": [
       "<matplotlib.axes._subplots.AxesSubplot at 0x7fdc3e6f2d10>"
      ]
     },
     "execution_count": 14,
     "metadata": {},
     "output_type": "execute_result"
    },
    {
     "data": {
      "image/png": "[encoded data removed]",
      "text/plain": [
       "<Figure size 432x288 with 1 Axes>"
      ]
     },
     "metadata": {
      "needs_background": "light"
     },
     "output_type": "display_data"
    }
   ],
   "source": [
    "sns.violinplot(x='Sex', y='Age', hue='Survived', data=train, split=True)"
   ]
  },
  {
   "cell_type": "markdown",
   "metadata": {
    "papermill": {
     "duration": 0.022425,
     "end_time": "2020-09-09T17:50:41.679638",
     "exception": false,
     "start_time": "2020-09-09T17:50:41.657213",
     "status": "completed"
    },
    "tags": []
   },
   "source": [
    "Female, children and old people were given preference by the rescue team and hence they mostly survived."
   ]
  },
  {
   "cell_type": "code",
   "execution_count": 15,
   "metadata": {
    "execution": {
     "iopub.execute_input": "2020-09-09T17:50:41.737510Z",
     "iopub.status.busy": "2020-09-09T17:50:41.731652Z",
     "iopub.status.idle": "2020-09-09T17:50:42.245277Z",
     "shell.execute_reply": "2020-09-09T17:50:42.244619Z"
    },
    "papermill": {
     "duration": 0.543004,
     "end_time": "2020-09-09T17:50:42.245399",
     "exception": false,
     "start_time": "2020-09-09T17:50:41.702395",
     "status": "completed"
    },
    "tags": []
   },
   "outputs": [
    {
     "data": {
      "text/plain": [
       "array([<matplotlib.axes._subplots.AxesSubplot object at 0x7fdc3e71c1d0>,\n",
       "       <matplotlib.axes._subplots.AxesSubplot object at 0x7fdc3e629dd0>],\n",
       "      dtype=object)"
      ]
     },
     "execution_count": 15,
     "metadata": {},
     "output_type": "execute_result"
    },
    {
     "data": {
      "image/png": "[encoded data removed]",
      "text/plain": [
       "<Figure size 1800x504 with 2 Axes>"
      ]
     },
     "metadata": {
      "needs_background": "light"
     },
     "output_type": "display_data"
    }
   ],
   "source": [
    "#Let's see the relation between Age and Survived column using graph\n",
    "train.hist(column=\"Age\",by=\"Survived\",bins=50,figsize=(25,7))"
   ]
  },
  {
   "cell_type": "code",
   "execution_count": 16,
   "metadata": {
    "execution": {
     "iopub.execute_input": "2020-09-09T17:50:42.313386Z",
     "iopub.status.busy": "2020-09-09T17:50:42.312136Z",
     "iopub.status.idle": "2020-09-09T17:50:42.442614Z",
     "shell.execute_reply": "2020-09-09T17:50:42.442041Z"
    },
    "papermill": {
     "duration": 0.173964,
     "end_time": "2020-09-09T17:50:42.442745",
     "exception": false,
     "start_time": "2020-09-09T17:50:42.268781",
     "status": "completed"
    },
    "tags": []
   },
   "outputs": [
    {
     "data": {
      "text/plain": [
       "<matplotlib.axes._subplots.AxesSubplot at 0x7fdc3e674c10>"
      ]
     },
     "execution_count": 16,
     "metadata": {},
     "output_type": "execute_result"
    },
    {
     "data": {
      "image/png": "[encoded data removed]",
      "text/plain": [
       "<Figure size 432x288 with 1 Axes>"
      ]
     },
     "metadata": {
      "needs_background": "light"
     },
     "output_type": "display_data"
    }
   ],
   "source": [
    "#Now let's see the relation between Pclass and survived column using graph\n",
    "train.pivot_table(values=['Survived'],index=['Pclass']).plot(kind='bar')"
   ]
  },
  {
   "cell_type": "code",
   "execution_count": 17,
   "metadata": {
    "execution": {
     "iopub.execute_input": "2020-09-09T17:50:42.501164Z",
     "iopub.status.busy": "2020-09-09T17:50:42.497058Z",
     "iopub.status.idle": "2020-09-09T17:50:42.667998Z",
     "shell.execute_reply": "2020-09-09T17:50:42.667378Z"
    },
    "papermill": {
     "duration": 0.201972,
     "end_time": "2020-09-09T17:50:42.668115",
     "exception": false,
     "start_time": "2020-09-09T17:50:42.466143",
     "status": "completed"
    },
    "tags": []
   },
   "outputs": [
    {
     "name": "stdout",
     "output_type": "stream",
     "text": [
      "3    491\n",
      "1    216\n",
      "2    184\n",
      "Name: Pclass, dtype: int64\n"
     ]
    },
    {
     "data": {
      "text/plain": [
       "<matplotlib.axes._subplots.AxesSubplot at 0x7fdc3e41d250>"
      ]
     },
     "execution_count": 17,
     "metadata": {},
     "output_type": "execute_result"
    },
    {
     "data": {
      "image/png": "[encoded data removed]",
      "text/plain": [
       "<Figure size 432x288 with 1 Axes>"
      ]
     },
     "metadata": {
      "needs_background": "light"
     },
     "output_type": "display_data"
    }
   ],
   "source": [
    "print(train['Pclass'].value_counts())\n",
    "sns.distplot(train['Pclass'])"
   ]
  },
  {
   "cell_type": "markdown",
   "metadata": {
    "papermill": {
     "duration": 0.024879,
     "end_time": "2020-09-09T17:50:42.717072",
     "exception": false,
     "start_time": "2020-09-09T17:50:42.692193",
     "status": "completed"
    },
    "tags": []
   },
   "source": [
    "There are highest number of passenger in class 3 and passengers of class 1 survived most and passengers of class 3 survived least. Hence it can be concluded that passengers of class 1 were given preference over other two classes."
   ]
  },
  {
   "cell_type": "code",
   "execution_count": 18,
   "metadata": {
    "execution": {
     "iopub.execute_input": "2020-09-09T17:50:42.806487Z",
     "iopub.status.busy": "2020-09-09T17:50:42.777594Z",
     "iopub.status.idle": "2020-09-09T17:50:43.019082Z",
     "shell.execute_reply": "2020-09-09T17:50:43.018284Z"
    },
    "papermill": {
     "duration": 0.275559,
     "end_time": "2020-09-09T17:50:43.019222",
     "exception": false,
     "start_time": "2020-09-09T17:50:42.743663",
     "status": "completed"
    },
    "tags": []
   },
   "outputs": [
    {
     "data": {
      "text/plain": [
       "<matplotlib.axes._subplots.AxesSubplot at 0x7fdc3e33d210>"
      ]
     },
     "execution_count": 18,
     "metadata": {},
     "output_type": "execute_result"
    },
    {
     "data": {
      "image/png": "[encoded data removed]",
      "text/plain": [
       "<Figure size 1440x648 with 1 Axes>"
      ]
     },
     "metadata": {
      "needs_background": "light"
     },
     "output_type": "display_data"
    }
   ],
   "source": [
    "#Now combine all Pclass, Age and Survived in one graph and see the result\n",
    "plt.figure(figsize=(20,9))\n",
    "sns.violinplot(x='Pclass', y='Age', hue='Survived',data=train, split=True)"
   ]
  },
  {
   "cell_type": "code",
   "execution_count": 19,
   "metadata": {
    "execution": {
     "iopub.execute_input": "2020-09-09T17:50:43.078990Z",
     "iopub.status.busy": "2020-09-09T17:50:43.078146Z",
     "iopub.status.idle": "2020-09-09T17:50:43.316276Z",
     "shell.execute_reply": "2020-09-09T17:50:43.315607Z"
    },
    "papermill": {
     "duration": 0.27152,
     "end_time": "2020-09-09T17:50:43.316393",
     "exception": false,
     "start_time": "2020-09-09T17:50:43.044873",
     "status": "completed"
    },
    "tags": []
   },
   "outputs": [
    {
     "data": {
      "text/plain": [
       "<matplotlib.axes._subplots.AxesSubplot at 0x7fdc3e2c64d0>"
      ]
     },
     "execution_count": 19,
     "metadata": {},
     "output_type": "execute_result"
    },
    {
     "data": {
      "image/png": "[encoded data removed]",
      "text/plain": [
       "<Figure size 1440x648 with 1 Axes>"
      ]
     },
     "metadata": {
      "needs_background": "light"
     },
     "output_type": "display_data"
    }
   ],
   "source": [
    "#Visualizing of which stoppage passenger died most and of which age group\n",
    "plt.figure(figsize=(20,9))\n",
    "sns.violinplot(x='Embarked', y='Age', hue='Survived',data=train, split=True)\n",
    "#C = Cherbourg, Q = Queenstown, S = Southampton"
   ]
  },
  {
   "cell_type": "code",
   "execution_count": 20,
   "metadata": {
    "execution": {
     "iopub.execute_input": "2020-09-09T17:50:43.496659Z",
     "iopub.status.busy": "2020-09-09T17:50:43.380616Z",
     "iopub.status.idle": "2020-09-09T17:50:43.613777Z",
     "shell.execute_reply": "2020-09-09T17:50:43.613193Z"
    },
    "papermill": {
     "duration": 0.271939,
     "end_time": "2020-09-09T17:50:43.613905",
     "exception": false,
     "start_time": "2020-09-09T17:50:43.341966",
     "status": "completed"
    },
    "tags": []
   },
   "outputs": [
    {
     "data": {
      "text/plain": [
       "<matplotlib.axes._subplots.AxesSubplot at 0x7fdc3e25d450>"
      ]
     },
     "execution_count": 20,
     "metadata": {},
     "output_type": "execute_result"
    },
    {
     "data": {
      "image/png": "[encoded data removed]",
      "text/plain": [
       "<Figure size 432x288 with 1 Axes>"
      ]
     },
     "metadata": {
      "needs_background": "light"
     },
     "output_type": "display_data"
    }
   ],
   "source": [
    "#Distribution of Age vs Survived\n",
    "sns.stripplot(train['Survived'],train['Age'], jitter=True)"
   ]
  },
  {
   "cell_type": "code",
   "execution_count": 21,
   "metadata": {
    "execution": {
     "iopub.execute_input": "2020-09-09T17:50:43.674387Z",
     "iopub.status.busy": "2020-09-09T17:50:43.673735Z",
     "iopub.status.idle": "2020-09-09T17:50:43.795779Z",
     "shell.execute_reply": "2020-09-09T17:50:43.795072Z"
    },
    "papermill": {
     "duration": 0.155715,
     "end_time": "2020-09-09T17:50:43.795906",
     "exception": false,
     "start_time": "2020-09-09T17:50:43.640191",
     "status": "completed"
    },
    "tags": []
   },
   "outputs": [
    {
     "data": {
      "text/plain": [
       "<matplotlib.axes._subplots.AxesSubplot at 0x7fdc3e1d8650>"
      ]
     },
     "execution_count": 21,
     "metadata": {},
     "output_type": "execute_result"
    },
    {
     "data": {
      "image/png": "[encoded data removed]",
      "text/plain": [
       "<Figure size 432x288 with 1 Axes>"
      ]
     },
     "metadata": {
      "needs_background": "light"
     },
     "output_type": "display_data"
    }
   ],
   "source": [
    "#Distribution of Fare vs Survived\n",
    "sns.stripplot(train['Survived'],train['Fare'], jitter=True)"
   ]
  },
  {
   "cell_type": "code",
   "execution_count": 22,
   "metadata": {
    "execution": {
     "iopub.execute_input": "2020-09-09T17:50:43.912430Z",
     "iopub.status.busy": "2020-09-09T17:50:43.907902Z",
     "iopub.status.idle": "2020-09-09T17:50:44.472847Z",
     "shell.execute_reply": "2020-09-09T17:50:44.473339Z"
    },
    "papermill": {
     "duration": 0.599461,
     "end_time": "2020-09-09T17:50:44.473508",
     "exception": false,
     "start_time": "2020-09-09T17:50:43.874047",
     "status": "completed"
    },
    "tags": []
   },
   "outputs": [
    {
     "data": {
      "text/plain": [
       "array([[<matplotlib.axes._subplots.AxesSubplot object at 0x7fdc3e2ce3d0>,\n",
       "        <matplotlib.axes._subplots.AxesSubplot object at 0x7fdc3e152ad0>],\n",
       "       [<matplotlib.axes._subplots.AxesSubplot object at 0x7fdc3e10ce50>,\n",
       "        <matplotlib.axes._subplots.AxesSubplot object at 0x7fdc3dde0b10>]],\n",
       "      dtype=object)"
      ]
     },
     "execution_count": 22,
     "metadata": {},
     "output_type": "execute_result"
    },
    {
     "data": {
      "image/png": "[encoded data removed]",
      "text/plain": [
       "<Figure size 432x288 with 4 Axes>"
      ]
     },
     "metadata": {
      "needs_background": "light"
     },
     "output_type": "display_data"
    }
   ],
   "source": [
    "#Distribution of age in different classes\n",
    "train.hist(column=\"Age\",by=\"Pclass\",bins=30)"
   ]
  },
  {
   "cell_type": "markdown",
   "metadata": {
    "papermill": {
     "duration": 0.026654,
     "end_time": "2020-09-09T17:50:44.527097",
     "exception": false,
     "start_time": "2020-09-09T17:50:44.500443",
     "status": "completed"
    },
    "tags": []
   },
   "source": [
    "# Data cleaning"
   ]
  },
  {
   "cell_type": "markdown",
   "metadata": {
    "papermill": {
     "duration": 0.026473,
     "end_time": "2020-09-09T17:50:44.580665",
     "exception": false,
     "start_time": "2020-09-09T17:50:44.554192",
     "status": "completed"
    },
    "tags": []
   },
   "source": [
    "### Detecting outliers"
   ]
  },
  {
   "cell_type": "code",
   "execution_count": 23,
   "metadata": {
    "execution": {
     "iopub.execute_input": "2020-09-09T17:50:44.638908Z",
     "iopub.status.busy": "2020-09-09T17:50:44.638179Z",
     "iopub.status.idle": "2020-09-09T17:50:44.646588Z",
     "shell.execute_reply": "2020-09-09T17:50:44.647080Z"
    },
    "papermill": {
     "duration": 0.039578,
     "end_time": "2020-09-09T17:50:44.647248",
     "exception": false,
     "start_time": "2020-09-09T17:50:44.607670",
     "status": "completed"
    },
    "tags": []
   },
   "outputs": [],
   "source": [
    "def detect_outlier(df,n,cols):\n",
    "    outlier_indices = []\n",
    "    for i in cols:\n",
    "        Q1 = np.percentile(df[i], 25)\n",
    "        Q3 = np.percentile(df[i], 75)\n",
    "        IQR = Q3 - Q1\n",
    "        outlier_step = 1.5*IQR\n",
    "        outlier_index_list = df[(df[i] < Q1-outlier_step) | (df[i] > Q3+outlier_step)].index\n",
    "        outlier_indices.extend(outlier_index_list)\n",
    "    outlier_indices = Counter(outlier_indices)\n",
    "    multiple_outliers = list(k for k,v in outlier_indices.items() if v>n)  \n",
    "    return multiple_outliers"
   ]
  },
  {
   "cell_type": "code",
   "execution_count": 24,
   "metadata": {
    "execution": {
     "iopub.execute_input": "2020-09-09T17:50:44.705153Z",
     "iopub.status.busy": "2020-09-09T17:50:44.704365Z",
     "iopub.status.idle": "2020-09-09T17:50:44.729504Z",
     "shell.execute_reply": "2020-09-09T17:50:44.730087Z"
    },
    "papermill": {
     "duration": 0.0557,
     "end_time": "2020-09-09T17:50:44.730243",
     "exception": false,
     "start_time": "2020-09-09T17:50:44.674543",
     "status": "completed"
    },
    "tags": []
   },
   "outputs": [
    {
     "data": {
      "text/html": [
       "<div>\n",
       "<style scoped>\n",
       "    .dataframe tbody tr th:only-of-type {\n",
       "        vertical-align: middle;\n",
       "    }\n",
       "\n",
       "    .dataframe tbody tr th {\n",
       "        vertical-align: top;\n",
       "    }\n",
       "\n",
       "    .dataframe thead th {\n",
       "        text-align: right;\n",
       "    }\n",
       "</style>\n",
       "<table border=\"1\" class=\"dataframe\">\n",
       "  <thead>\n",
       "    <tr style=\"text-align: right;\">\n",
       "      <th></th>\n",
       "      <th>PassengerId</th>\n",
       "      <th>Survived</th>\n",
       "      <th>Pclass</th>\n",
       "      <th>Name</th>\n",
       "      <th>Sex</th>\n",
       "      <th>Age</th>\n",
       "      <th>SibSp</th>\n",
       "      <th>Parch</th>\n",
       "      <th>Ticket</th>\n",
       "      <th>Fare</th>\n",
       "      <th>Cabin</th>\n",
       "      <th>Embarked</th>\n",
       "    </tr>\n",
       "  </thead>\n",
       "  <tbody>\n",
       "    <tr>\n",
       "      <th>27</th>\n",
       "      <td>28</td>\n",
       "      <td>0</td>\n",
       "      <td>1</td>\n",
       "      <td>Fortune, Mr. Charles Alexander</td>\n",
       "      <td>male</td>\n",
       "      <td>19.0</td>\n",
       "      <td>3</td>\n",
       "      <td>2</td>\n",
       "      <td>19950</td>\n",
       "      <td>263.00</td>\n",
       "      <td>C23 C25 C27</td>\n",
       "      <td>S</td>\n",
       "    </tr>\n",
       "    <tr>\n",
       "      <th>88</th>\n",
       "      <td>89</td>\n",
       "      <td>1</td>\n",
       "      <td>1</td>\n",
       "      <td>Fortune, Miss. Mabel Helen</td>\n",
       "      <td>female</td>\n",
       "      <td>23.0</td>\n",
       "      <td>3</td>\n",
       "      <td>2</td>\n",
       "      <td>19950</td>\n",
       "      <td>263.00</td>\n",
       "      <td>C23 C25 C27</td>\n",
       "      <td>S</td>\n",
       "    </tr>\n",
       "    <tr>\n",
       "      <th>159</th>\n",
       "      <td>160</td>\n",
       "      <td>0</td>\n",
       "      <td>3</td>\n",
       "      <td>Sage, Master. Thomas Henry</td>\n",
       "      <td>male</td>\n",
       "      <td>NaN</td>\n",
       "      <td>8</td>\n",
       "      <td>2</td>\n",
       "      <td>CA. 2343</td>\n",
       "      <td>69.55</td>\n",
       "      <td>NaN</td>\n",
       "      <td>S</td>\n",
       "    </tr>\n",
       "    <tr>\n",
       "      <th>180</th>\n",
       "      <td>181</td>\n",
       "      <td>0</td>\n",
       "      <td>3</td>\n",
       "      <td>Sage, Miss. Constance Gladys</td>\n",
       "      <td>female</td>\n",
       "      <td>NaN</td>\n",
       "      <td>8</td>\n",
       "      <td>2</td>\n",
       "      <td>CA. 2343</td>\n",
       "      <td>69.55</td>\n",
       "      <td>NaN</td>\n",
       "      <td>S</td>\n",
       "    </tr>\n",
       "    <tr>\n",
       "      <th>201</th>\n",
       "      <td>202</td>\n",
       "      <td>0</td>\n",
       "      <td>3</td>\n",
       "      <td>Sage, Mr. Frederick</td>\n",
       "      <td>male</td>\n",
       "      <td>NaN</td>\n",
       "      <td>8</td>\n",
       "      <td>2</td>\n",
       "      <td>CA. 2343</td>\n",
       "      <td>69.55</td>\n",
       "      <td>NaN</td>\n",
       "      <td>S</td>\n",
       "    </tr>\n",
       "    <tr>\n",
       "      <th>324</th>\n",
       "      <td>325</td>\n",
       "      <td>0</td>\n",
       "      <td>3</td>\n",
       "      <td>Sage, Mr. George John Jr</td>\n",
       "      <td>male</td>\n",
       "      <td>NaN</td>\n",
       "      <td>8</td>\n",
       "      <td>2</td>\n",
       "      <td>CA. 2343</td>\n",
       "      <td>69.55</td>\n",
       "      <td>NaN</td>\n",
       "      <td>S</td>\n",
       "    </tr>\n",
       "    <tr>\n",
       "      <th>341</th>\n",
       "      <td>342</td>\n",
       "      <td>1</td>\n",
       "      <td>1</td>\n",
       "      <td>Fortune, Miss. Alice Elizabeth</td>\n",
       "      <td>female</td>\n",
       "      <td>24.0</td>\n",
       "      <td>3</td>\n",
       "      <td>2</td>\n",
       "      <td>19950</td>\n",
       "      <td>263.00</td>\n",
       "      <td>C23 C25 C27</td>\n",
       "      <td>S</td>\n",
       "    </tr>\n",
       "    <tr>\n",
       "      <th>792</th>\n",
       "      <td>793</td>\n",
       "      <td>0</td>\n",
       "      <td>3</td>\n",
       "      <td>Sage, Miss. Stella Anna</td>\n",
       "      <td>female</td>\n",
       "      <td>NaN</td>\n",
       "      <td>8</td>\n",
       "      <td>2</td>\n",
       "      <td>CA. 2343</td>\n",
       "      <td>69.55</td>\n",
       "      <td>NaN</td>\n",
       "      <td>S</td>\n",
       "    </tr>\n",
       "    <tr>\n",
       "      <th>846</th>\n",
       "      <td>847</td>\n",
       "      <td>0</td>\n",
       "      <td>3</td>\n",
       "      <td>Sage, Mr. Douglas Bullen</td>\n",
       "      <td>male</td>\n",
       "      <td>NaN</td>\n",
       "      <td>8</td>\n",
       "      <td>2</td>\n",
       "      <td>CA. 2343</td>\n",
       "      <td>69.55</td>\n",
       "      <td>NaN</td>\n",
       "      <td>S</td>\n",
       "    </tr>\n",
       "    <tr>\n",
       "      <th>863</th>\n",
       "      <td>864</td>\n",
       "      <td>0</td>\n",
       "      <td>3</td>\n",
       "      <td>Sage, Miss. Dorothy Edith \"Dolly\"</td>\n",
       "      <td>female</td>\n",
       "      <td>NaN</td>\n",
       "      <td>8</td>\n",
       "      <td>2</td>\n",
       "      <td>CA. 2343</td>\n",
       "      <td>69.55</td>\n",
       "      <td>NaN</td>\n",
       "      <td>S</td>\n",
       "    </tr>\n",
       "  </tbody>\n",
       "</table>\n",
       "</div>"
      ],
      "text/plain": [
       "     PassengerId  Survived  Pclass                               Name     Sex  \\\n",
       "27            28         0       1     Fortune, Mr. Charles Alexander    male   \n",
       "88            89         1       1         Fortune, Miss. Mabel Helen  female   \n",
       "159          160         0       3         Sage, Master. Thomas Henry    male   \n",
       "180          181         0       3       Sage, Miss. Constance Gladys  female   \n",
       "201          202         0       3                Sage, Mr. Frederick    male   \n",
       "324          325         0       3           Sage, Mr. George John Jr    male   \n",
       "341          342         1       1     Fortune, Miss. Alice Elizabeth  female   \n",
       "792          793         0       3            Sage, Miss. Stella Anna  female   \n",
       "846          847         0       3           Sage, Mr. Douglas Bullen    male   \n",
       "863          864         0       3  Sage, Miss. Dorothy Edith \"Dolly\"  female   \n",
       "\n",
       "      Age  SibSp  Parch    Ticket    Fare        Cabin Embarked  \n",
       "27   19.0      3      2     19950  263.00  C23 C25 C27        S  \n",
       "88   23.0      3      2     19950  263.00  C23 C25 C27        S  \n",
       "159   NaN      8      2  CA. 2343   69.55          NaN        S  \n",
       "180   NaN      8      2  CA. 2343   69.55          NaN        S  \n",
       "201   NaN      8      2  CA. 2343   69.55          NaN        S  \n",
       "324   NaN      8      2  CA. 2343   69.55          NaN        S  \n",
       "341  24.0      3      2     19950  263.00  C23 C25 C27        S  \n",
       "792   NaN      8      2  CA. 2343   69.55          NaN        S  \n",
       "846   NaN      8      2  CA. 2343   69.55          NaN        S  \n",
       "863   NaN      8      2  CA. 2343   69.55          NaN        S  "
      ]
     },
     "execution_count": 24,
     "metadata": {},
     "output_type": "execute_result"
    }
   ],
   "source": [
    "#We are dropping only those indices whose count is at least 2. \n",
    "outliers_to_drop = detect_outlier(train,2,['Age', 'SibSp', 'Parch', 'Fare'])\n",
    "train.loc[outliers_to_drop]"
   ]
  },
  {
   "cell_type": "code",
   "execution_count": 25,
   "metadata": {
    "execution": {
     "iopub.execute_input": "2020-09-09T17:50:44.788974Z",
     "iopub.status.busy": "2020-09-09T17:50:44.788223Z",
     "iopub.status.idle": "2020-09-09T17:50:44.793619Z",
     "shell.execute_reply": "2020-09-09T17:50:44.794100Z"
    },
    "papermill": {
     "duration": 0.036234,
     "end_time": "2020-09-09T17:50:44.794262",
     "exception": false,
     "start_time": "2020-09-09T17:50:44.758028",
     "status": "completed"
    },
    "tags": []
   },
   "outputs": [],
   "source": [
    "train = train.drop(outliers_to_drop, axis = 0).reset_index(drop=True)"
   ]
  },
  {
   "cell_type": "markdown",
   "metadata": {
    "papermill": {
     "duration": 0.0271,
     "end_time": "2020-09-09T17:50:44.848431",
     "exception": false,
     "start_time": "2020-09-09T17:50:44.821331",
     "status": "completed"
    },
    "tags": []
   },
   "source": [
    "We have dropped 10 rows."
   ]
  },
  {
   "cell_type": "markdown",
   "metadata": {
    "papermill": {
     "duration": 0.027731,
     "end_time": "2020-09-09T17:50:44.903364",
     "exception": false,
     "start_time": "2020-09-09T17:50:44.875633",
     "status": "completed"
    },
    "tags": []
   },
   "source": [
    "### Loading the Data,Combining and removing unnecessary columns"
   ]
  },
  {
   "cell_type": "code",
   "execution_count": 26,
   "metadata": {
    "execution": {
     "iopub.execute_input": "2020-09-09T17:50:44.962949Z",
     "iopub.status.busy": "2020-09-09T17:50:44.962143Z",
     "iopub.status.idle": "2020-09-09T17:50:44.975206Z",
     "shell.execute_reply": "2020-09-09T17:50:44.975743Z"
    },
    "papermill": {
     "duration": 0.044733,
     "end_time": "2020-09-09T17:50:44.975948",
     "exception": false,
     "start_time": "2020-09-09T17:50:44.931215",
     "status": "completed"
    },
    "tags": []
   },
   "outputs": [],
   "source": [
    "# extracting and then removing the targets from the training data \n",
    "targets = train.Survived\n",
    "train.drop(['Survived'], 1, inplace=True)\n",
    "    \n",
    "\n",
    "# merging train data and test data for future feature engineering\n",
    "# we'll also remove the PassengerID since this is not an informative feature\n",
    "combined = train.append(test)\n",
    "combined.reset_index(inplace=True)\n",
    "combined.drop(['index', 'PassengerId'], inplace=True, axis=1)"
   ]
  },
  {
   "cell_type": "code",
   "execution_count": 27,
   "metadata": {
    "execution": {
     "iopub.execute_input": "2020-09-09T17:50:45.033944Z",
     "iopub.status.busy": "2020-09-09T17:50:45.033216Z",
     "iopub.status.idle": "2020-09-09T17:50:45.282044Z",
     "shell.execute_reply": "2020-09-09T17:50:45.281405Z"
    },
    "papermill": {
     "duration": 0.27891,
     "end_time": "2020-09-09T17:50:45.282173",
     "exception": false,
     "start_time": "2020-09-09T17:50:45.003263",
     "status": "completed"
    },
    "tags": []
   },
   "outputs": [
    {
     "data": {
      "text/plain": [
       "<matplotlib.axes._subplots.AxesSubplot at 0x7fdc3f076f50>"
      ]
     },
     "execution_count": 27,
     "metadata": {},
     "output_type": "execute_result"
    },
    {
     "data": {
      "image/png": "[encoded data removed]",
      "text/plain": [
       "<Figure size 432x288 with 2 Axes>"
      ]
     },
     "metadata": {
      "needs_background": "light"
     },
     "output_type": "display_data"
    }
   ],
   "source": [
    "#Correlation between different features\n",
    "sns.heatmap(combined.corr(), annot = True)"
   ]
  },
  {
   "cell_type": "code",
   "execution_count": 28,
   "metadata": {
    "execution": {
     "iopub.execute_input": "2020-09-09T17:50:45.344942Z",
     "iopub.status.busy": "2020-09-09T17:50:45.343961Z",
     "iopub.status.idle": "2020-09-09T17:50:45.349202Z",
     "shell.execute_reply": "2020-09-09T17:50:45.349714Z"
    },
    "papermill": {
     "duration": 0.039298,
     "end_time": "2020-09-09T17:50:45.349873",
     "exception": false,
     "start_time": "2020-09-09T17:50:45.310575",
     "status": "completed"
    },
    "tags": []
   },
   "outputs": [
    {
     "name": "stdout",
     "output_type": "stream",
     "text": [
      "(881,)\n"
     ]
    },
    {
     "data": {
      "text/plain": [
       "(1299, 10)"
      ]
     },
     "execution_count": 28,
     "metadata": {},
     "output_type": "execute_result"
    }
   ],
   "source": [
    "print(targets.shape)\n",
    "combined.shape"
   ]
  },
  {
   "cell_type": "code",
   "execution_count": 29,
   "metadata": {
    "execution": {
     "iopub.execute_input": "2020-09-09T17:50:45.419979Z",
     "iopub.status.busy": "2020-09-09T17:50:45.419188Z",
     "iopub.status.idle": "2020-09-09T17:50:45.422452Z",
     "shell.execute_reply": "2020-09-09T17:50:45.423274Z"
    },
    "papermill": {
     "duration": 0.045992,
     "end_time": "2020-09-09T17:50:45.423528",
     "exception": false,
     "start_time": "2020-09-09T17:50:45.377536",
     "status": "completed"
    },
    "tags": []
   },
   "outputs": [
    {
     "name": "stdout",
     "output_type": "stream",
     "text": [
      "<class 'pandas.core.frame.DataFrame'>\n",
      "RangeIndex: 1299 entries, 0 to 1298\n",
      "Data columns (total 10 columns):\n",
      " #   Column    Non-Null Count  Dtype  \n",
      "---  ------    --------------  -----  \n",
      " 0   Pclass    1299 non-null   int64  \n",
      " 1   Name      1299 non-null   object \n",
      " 2   Sex       1299 non-null   object \n",
      " 3   Age       1043 non-null   float64\n",
      " 4   SibSp     1299 non-null   int64  \n",
      " 5   Parch     1299 non-null   int64  \n",
      " 6   Ticket    1299 non-null   object \n",
      " 7   Fare      1298 non-null   float64\n",
      " 8   Cabin     292 non-null    object \n",
      " 9   Embarked  1297 non-null   object \n",
      "dtypes: float64(2), int64(3), object(5)\n",
      "memory usage: 101.6+ KB\n"
     ]
    }
   ],
   "source": [
    "combined.info()"
   ]
  },
  {
   "cell_type": "code",
   "execution_count": 30,
   "metadata": {
    "execution": {
     "iopub.execute_input": "2020-09-09T17:50:45.487179Z",
     "iopub.status.busy": "2020-09-09T17:50:45.486345Z",
     "iopub.status.idle": "2020-09-09T17:50:45.790496Z",
     "shell.execute_reply": "2020-09-09T17:50:45.789930Z"
    },
    "papermill": {
     "duration": 0.337708,
     "end_time": "2020-09-09T17:50:45.790639",
     "exception": false,
     "start_time": "2020-09-09T17:50:45.452931",
     "status": "completed"
    },
    "tags": []
   },
   "outputs": [
    {
     "data": {
      "text/plain": [
       "<matplotlib.axes._subplots.AxesSubplot at 0x7fdc3db985d0>"
      ]
     },
     "execution_count": 30,
     "metadata": {},
     "output_type": "execute_result"
    },
    {
     "data": {
      "image/png": "[encoded data removed]",
      "text/plain": [
       "<Figure size 432x288 with 2 Axes>"
      ]
     },
     "metadata": {
      "needs_background": "light"
     },
     "output_type": "display_data"
    }
   ],
   "source": [
    "#Visualizing null values in the dataset\n",
    "sns.heatmap(combined.isnull())"
   ]
  },
  {
   "cell_type": "markdown",
   "metadata": {
    "papermill": {
     "duration": 0.027968,
     "end_time": "2020-09-09T17:50:45.846774",
     "exception": false,
     "start_time": "2020-09-09T17:50:45.818806",
     "status": "completed"
    },
    "tags": []
   },
   "source": [
    "We have null values in Age, Fare, Cabin and Embarked columns"
   ]
  },
  {
   "cell_type": "code",
   "execution_count": 31,
   "metadata": {
    "execution": {
     "iopub.execute_input": "2020-09-09T17:50:45.920068Z",
     "iopub.status.busy": "2020-09-09T17:50:45.919364Z",
     "iopub.status.idle": "2020-09-09T17:50:45.922599Z",
     "shell.execute_reply": "2020-09-09T17:50:45.923157Z"
    },
    "papermill": {
     "duration": 0.048413,
     "end_time": "2020-09-09T17:50:45.923313",
     "exception": false,
     "start_time": "2020-09-09T17:50:45.874900",
     "status": "completed"
    },
    "tags": []
   },
   "outputs": [
    {
     "data": {
      "text/html": [
       "<div>\n",
       "<style scoped>\n",
       "    .dataframe tbody tr th:only-of-type {\n",
       "        vertical-align: middle;\n",
       "    }\n",
       "\n",
       "    .dataframe tbody tr th {\n",
       "        vertical-align: top;\n",
       "    }\n",
       "\n",
       "    .dataframe thead th {\n",
       "        text-align: right;\n",
       "    }\n",
       "</style>\n",
       "<table border=\"1\" class=\"dataframe\">\n",
       "  <thead>\n",
       "    <tr style=\"text-align: right;\">\n",
       "      <th></th>\n",
       "      <th>Pclass</th>\n",
       "      <th>Name</th>\n",
       "      <th>Sex</th>\n",
       "      <th>Age</th>\n",
       "      <th>SibSp</th>\n",
       "      <th>Parch</th>\n",
       "      <th>Ticket</th>\n",
       "      <th>Fare</th>\n",
       "      <th>Cabin</th>\n",
       "      <th>Embarked</th>\n",
       "    </tr>\n",
       "  </thead>\n",
       "  <tbody>\n",
       "    <tr>\n",
       "      <th>0</th>\n",
       "      <td>3</td>\n",
       "      <td>Braund, Mr. Owen Harris</td>\n",
       "      <td>male</td>\n",
       "      <td>22.0</td>\n",
       "      <td>1</td>\n",
       "      <td>0</td>\n",
       "      <td>A/5 21171</td>\n",
       "      <td>7.2500</td>\n",
       "      <td>NaN</td>\n",
       "      <td>S</td>\n",
       "    </tr>\n",
       "    <tr>\n",
       "      <th>1</th>\n",
       "      <td>1</td>\n",
       "      <td>Cumings, Mrs. John Bradley (Florence Briggs Th...</td>\n",
       "      <td>female</td>\n",
       "      <td>38.0</td>\n",
       "      <td>1</td>\n",
       "      <td>0</td>\n",
       "      <td>PC 17599</td>\n",
       "      <td>71.2833</td>\n",
       "      <td>C85</td>\n",
       "      <td>C</td>\n",
       "    </tr>\n",
       "    <tr>\n",
       "      <th>2</th>\n",
       "      <td>3</td>\n",
       "      <td>Heikkinen, Miss. Laina</td>\n",
       "      <td>female</td>\n",
       "      <td>26.0</td>\n",
       "      <td>0</td>\n",
       "      <td>0</td>\n",
       "      <td>STON/O2. 3101282</td>\n",
       "      <td>7.9250</td>\n",
       "      <td>NaN</td>\n",
       "      <td>S</td>\n",
       "    </tr>\n",
       "    <tr>\n",
       "      <th>3</th>\n",
       "      <td>1</td>\n",
       "      <td>Futrelle, Mrs. Jacques Heath (Lily May Peel)</td>\n",
       "      <td>female</td>\n",
       "      <td>35.0</td>\n",
       "      <td>1</td>\n",
       "      <td>0</td>\n",
       "      <td>113803</td>\n",
       "      <td>53.1000</td>\n",
       "      <td>C123</td>\n",
       "      <td>S</td>\n",
       "    </tr>\n",
       "    <tr>\n",
       "      <th>4</th>\n",
       "      <td>3</td>\n",
       "      <td>Allen, Mr. William Henry</td>\n",
       "      <td>male</td>\n",
       "      <td>35.0</td>\n",
       "      <td>0</td>\n",
       "      <td>0</td>\n",
       "      <td>373450</td>\n",
       "      <td>8.0500</td>\n",
       "      <td>NaN</td>\n",
       "      <td>S</td>\n",
       "    </tr>\n",
       "  </tbody>\n",
       "</table>\n",
       "</div>"
      ],
      "text/plain": [
       "   Pclass                                               Name     Sex   Age  \\\n",
       "0       3                            Braund, Mr. Owen Harris    male  22.0   \n",
       "1       1  Cumings, Mrs. John Bradley (Florence Briggs Th...  female  38.0   \n",
       "2       3                             Heikkinen, Miss. Laina  female  26.0   \n",
       "3       1       Futrelle, Mrs. Jacques Heath (Lily May Peel)  female  35.0   \n",
       "4       3                           Allen, Mr. William Henry    male  35.0   \n",
       "\n",
       "   SibSp  Parch            Ticket     Fare Cabin Embarked  \n",
       "0      1      0         A/5 21171   7.2500   NaN        S  \n",
       "1      1      0          PC 17599  71.2833   C85        C  \n",
       "2      0      0  STON/O2. 3101282   7.9250   NaN        S  \n",
       "3      1      0            113803  53.1000  C123        S  \n",
       "4      0      0            373450   8.0500   NaN        S  "
      ]
     },
     "execution_count": 31,
     "metadata": {},
     "output_type": "execute_result"
    }
   ],
   "source": [
    "combined.head()"
   ]
  },
  {
   "cell_type": "markdown",
   "metadata": {
    "papermill": {
     "duration": 0.028835,
     "end_time": "2020-09-09T17:50:45.980877",
     "exception": false,
     "start_time": "2020-09-09T17:50:45.952042",
     "status": "completed"
    },
    "tags": []
   },
   "source": [
    "### Cleaning Name column\n",
    "In Name column we have all unique string in each row, so we will extract titles of each row."
   ]
  },
  {
   "cell_type": "code",
   "execution_count": 32,
   "metadata": {
    "execution": {
     "iopub.execute_input": "2020-09-09T17:50:46.047060Z",
     "iopub.status.busy": "2020-09-09T17:50:46.046363Z",
     "iopub.status.idle": "2020-09-09T17:50:46.055808Z",
     "shell.execute_reply": "2020-09-09T17:50:46.055173Z"
    },
    "papermill": {
     "duration": 0.042553,
     "end_time": "2020-09-09T17:50:46.055928",
     "exception": false,
     "start_time": "2020-09-09T17:50:46.013375",
     "status": "completed"
    },
    "tags": []
   },
   "outputs": [
    {
     "name": "stdout",
     "output_type": "stream",
     "text": [
      "{'Don', 'Mrs', 'Mlle', 'Capt', 'Jonkheer', 'Master', 'Col', 'Dr', 'Lady', 'Major', 'the Countess', 'Rev', 'Miss', 'Ms', 'Sir', 'Mme', 'Mr'}\n"
     ]
    }
   ],
   "source": [
    "#Let's see all the titles\n",
    "titles = set()\n",
    "for name in train['Name']:\n",
    "    titles.add(name.split(',')[1].split('.')[0].strip())\n",
    "print(titles)"
   ]
  },
  {
   "cell_type": "code",
   "execution_count": 33,
   "metadata": {
    "execution": {
     "iopub.execute_input": "2020-09-09T17:50:46.116848Z",
     "iopub.status.busy": "2020-09-09T17:50:46.116113Z",
     "iopub.status.idle": "2020-09-09T17:50:46.124397Z",
     "shell.execute_reply": "2020-09-09T17:50:46.124944Z"
    },
    "papermill": {
     "duration": 0.040556,
     "end_time": "2020-09-09T17:50:46.125139",
     "exception": false,
     "start_time": "2020-09-09T17:50:46.084583",
     "status": "completed"
    },
    "tags": []
   },
   "outputs": [],
   "source": [
    "#We will extract titles in 'Title' column\n",
    "combined['Title'] = combined['Name'].str.extract(' ([A-Za-z]+)\\.', expand=False)"
   ]
  },
  {
   "cell_type": "code",
   "execution_count": 34,
   "metadata": {
    "execution": {
     "iopub.execute_input": "2020-09-09T17:50:46.188354Z",
     "iopub.status.busy": "2020-09-09T17:50:46.187764Z",
     "iopub.status.idle": "2020-09-09T17:50:46.215415Z",
     "shell.execute_reply": "2020-09-09T17:50:46.216006Z"
    },
    "papermill": {
     "duration": 0.060596,
     "end_time": "2020-09-09T17:50:46.216185",
     "exception": false,
     "start_time": "2020-09-09T17:50:46.155589",
     "status": "completed"
    },
    "tags": []
   },
   "outputs": [
    {
     "data": {
      "text/html": [
       "<div>\n",
       "<style scoped>\n",
       "    .dataframe tbody tr th:only-of-type {\n",
       "        vertical-align: middle;\n",
       "    }\n",
       "\n",
       "    .dataframe tbody tr th {\n",
       "        vertical-align: top;\n",
       "    }\n",
       "\n",
       "    .dataframe thead th {\n",
       "        text-align: right;\n",
       "    }\n",
       "</style>\n",
       "<table border=\"1\" class=\"dataframe\">\n",
       "  <thead>\n",
       "    <tr style=\"text-align: right;\">\n",
       "      <th>Sex</th>\n",
       "      <th>female</th>\n",
       "      <th>male</th>\n",
       "    </tr>\n",
       "    <tr>\n",
       "      <th>Title</th>\n",
       "      <th></th>\n",
       "      <th></th>\n",
       "    </tr>\n",
       "  </thead>\n",
       "  <tbody>\n",
       "    <tr>\n",
       "      <th>Capt</th>\n",
       "      <td>0</td>\n",
       "      <td>1</td>\n",
       "    </tr>\n",
       "    <tr>\n",
       "      <th>Col</th>\n",
       "      <td>0</td>\n",
       "      <td>4</td>\n",
       "    </tr>\n",
       "    <tr>\n",
       "      <th>Countess</th>\n",
       "      <td>1</td>\n",
       "      <td>0</td>\n",
       "    </tr>\n",
       "    <tr>\n",
       "      <th>Don</th>\n",
       "      <td>0</td>\n",
       "      <td>1</td>\n",
       "    </tr>\n",
       "    <tr>\n",
       "      <th>Dona</th>\n",
       "      <td>1</td>\n",
       "      <td>0</td>\n",
       "    </tr>\n",
       "    <tr>\n",
       "      <th>Dr</th>\n",
       "      <td>1</td>\n",
       "      <td>7</td>\n",
       "    </tr>\n",
       "    <tr>\n",
       "      <th>Jonkheer</th>\n",
       "      <td>0</td>\n",
       "      <td>1</td>\n",
       "    </tr>\n",
       "    <tr>\n",
       "      <th>Lady</th>\n",
       "      <td>1</td>\n",
       "      <td>0</td>\n",
       "    </tr>\n",
       "    <tr>\n",
       "      <th>Major</th>\n",
       "      <td>0</td>\n",
       "      <td>2</td>\n",
       "    </tr>\n",
       "    <tr>\n",
       "      <th>Master</th>\n",
       "      <td>0</td>\n",
       "      <td>60</td>\n",
       "    </tr>\n",
       "    <tr>\n",
       "      <th>Miss</th>\n",
       "      <td>255</td>\n",
       "      <td>0</td>\n",
       "    </tr>\n",
       "    <tr>\n",
       "      <th>Mlle</th>\n",
       "      <td>2</td>\n",
       "      <td>0</td>\n",
       "    </tr>\n",
       "    <tr>\n",
       "      <th>Mme</th>\n",
       "      <td>1</td>\n",
       "      <td>0</td>\n",
       "    </tr>\n",
       "    <tr>\n",
       "      <th>Mr</th>\n",
       "      <td>0</td>\n",
       "      <td>753</td>\n",
       "    </tr>\n",
       "    <tr>\n",
       "      <th>Mrs</th>\n",
       "      <td>197</td>\n",
       "      <td>0</td>\n",
       "    </tr>\n",
       "    <tr>\n",
       "      <th>Ms</th>\n",
       "      <td>2</td>\n",
       "      <td>0</td>\n",
       "    </tr>\n",
       "    <tr>\n",
       "      <th>Rev</th>\n",
       "      <td>0</td>\n",
       "      <td>8</td>\n",
       "    </tr>\n",
       "    <tr>\n",
       "      <th>Sir</th>\n",
       "      <td>0</td>\n",
       "      <td>1</td>\n",
       "    </tr>\n",
       "  </tbody>\n",
       "</table>\n",
       "</div>"
      ],
      "text/plain": [
       "Sex       female  male\n",
       "Title                 \n",
       "Capt           0     1\n",
       "Col            0     4\n",
       "Countess       1     0\n",
       "Don            0     1\n",
       "Dona           1     0\n",
       "Dr             1     7\n",
       "Jonkheer       0     1\n",
       "Lady           1     0\n",
       "Major          0     2\n",
       "Master         0    60\n",
       "Miss         255     0\n",
       "Mlle           2     0\n",
       "Mme            1     0\n",
       "Mr             0   753\n",
       "Mrs          197     0\n",
       "Ms             2     0\n",
       "Rev            0     8\n",
       "Sir            0     1"
      ]
     },
     "execution_count": 34,
     "metadata": {},
     "output_type": "execute_result"
    }
   ],
   "source": [
    "pd.crosstab(combined['Title'],combined['Sex'])"
   ]
  },
  {
   "cell_type": "code",
   "execution_count": 35,
   "metadata": {
    "execution": {
     "iopub.execute_input": "2020-09-09T17:50:46.284873Z",
     "iopub.status.busy": "2020-09-09T17:50:46.284138Z",
     "iopub.status.idle": "2020-09-09T17:50:46.294451Z",
     "shell.execute_reply": "2020-09-09T17:50:46.294977Z"
    },
    "papermill": {
     "duration": 0.04947,
     "end_time": "2020-09-09T17:50:46.295161",
     "exception": false,
     "start_time": "2020-09-09T17:50:46.245691",
     "status": "completed"
    },
    "tags": []
   },
   "outputs": [],
   "source": [
    "#Replacing some titles to the most common titles\n",
    "combined['Title'] = combined['Title'].replace(['Lady', 'Countess','Capt', 'Col', 'Don', 'Dr', 'Major', 'Rev', 'Sir', 'Jonkheer', 'Dona'], 'Rare')\n",
    "combined['Title'] = combined['Title'].replace('Mlle', 'Miss')\n",
    "combined['Title'] = combined['Title'].replace('Ms', 'Miss')\n",
    "combined['Title'] = combined['Title'].replace('Mme', 'Mrs')\n",
    "#Mapping titles to numerical data\n",
    "title_mapping = {\"Mr\": 1, \"Miss\": 2, \"Mrs\": 3, \"Master\": 4, \"Rare\": 5}\n",
    "combined['Title'] = combined['Title'].map(title_mapping)\n",
    "combined['Title'] = combined['Title'].fillna(0)\n",
    "##dropping Name feature\n",
    "combined = combined.drop(['Name'], axis=1)"
   ]
  },
  {
   "cell_type": "code",
   "execution_count": 36,
   "metadata": {
    "execution": {
     "iopub.execute_input": "2020-09-09T17:50:46.357808Z",
     "iopub.status.busy": "2020-09-09T17:50:46.357041Z",
     "iopub.status.idle": "2020-09-09T17:50:46.372909Z",
     "shell.execute_reply": "2020-09-09T17:50:46.372313Z"
    },
    "papermill": {
     "duration": 0.048774,
     "end_time": "2020-09-09T17:50:46.373042",
     "exception": false,
     "start_time": "2020-09-09T17:50:46.324268",
     "status": "completed"
    },
    "tags": []
   },
   "outputs": [
    {
     "data": {
      "text/html": [
       "<div>\n",
       "<style scoped>\n",
       "    .dataframe tbody tr th:only-of-type {\n",
       "        vertical-align: middle;\n",
       "    }\n",
       "\n",
       "    .dataframe tbody tr th {\n",
       "        vertical-align: top;\n",
       "    }\n",
       "\n",
       "    .dataframe thead th {\n",
       "        text-align: right;\n",
       "    }\n",
       "</style>\n",
       "<table border=\"1\" class=\"dataframe\">\n",
       "  <thead>\n",
       "    <tr style=\"text-align: right;\">\n",
       "      <th></th>\n",
       "      <th>Pclass</th>\n",
       "      <th>Sex</th>\n",
       "      <th>Age</th>\n",
       "      <th>SibSp</th>\n",
       "      <th>Parch</th>\n",
       "      <th>Ticket</th>\n",
       "      <th>Fare</th>\n",
       "      <th>Cabin</th>\n",
       "      <th>Embarked</th>\n",
       "      <th>Title</th>\n",
       "    </tr>\n",
       "  </thead>\n",
       "  <tbody>\n",
       "    <tr>\n",
       "      <th>0</th>\n",
       "      <td>3</td>\n",
       "      <td>male</td>\n",
       "      <td>22.0</td>\n",
       "      <td>1</td>\n",
       "      <td>0</td>\n",
       "      <td>A/5 21171</td>\n",
       "      <td>7.2500</td>\n",
       "      <td>NaN</td>\n",
       "      <td>S</td>\n",
       "      <td>1</td>\n",
       "    </tr>\n",
       "    <tr>\n",
       "      <th>1</th>\n",
       "      <td>1</td>\n",
       "      <td>female</td>\n",
       "      <td>38.0</td>\n",
       "      <td>1</td>\n",
       "      <td>0</td>\n",
       "      <td>PC 17599</td>\n",
       "      <td>71.2833</td>\n",
       "      <td>C85</td>\n",
       "      <td>C</td>\n",
       "      <td>3</td>\n",
       "    </tr>\n",
       "    <tr>\n",
       "      <th>2</th>\n",
       "      <td>3</td>\n",
       "      <td>female</td>\n",
       "      <td>26.0</td>\n",
       "      <td>0</td>\n",
       "      <td>0</td>\n",
       "      <td>STON/O2. 3101282</td>\n",
       "      <td>7.9250</td>\n",
       "      <td>NaN</td>\n",
       "      <td>S</td>\n",
       "      <td>2</td>\n",
       "    </tr>\n",
       "    <tr>\n",
       "      <th>3</th>\n",
       "      <td>1</td>\n",
       "      <td>female</td>\n",
       "      <td>35.0</td>\n",
       "      <td>1</td>\n",
       "      <td>0</td>\n",
       "      <td>113803</td>\n",
       "      <td>53.1000</td>\n",
       "      <td>C123</td>\n",
       "      <td>S</td>\n",
       "      <td>3</td>\n",
       "    </tr>\n",
       "    <tr>\n",
       "      <th>4</th>\n",
       "      <td>3</td>\n",
       "      <td>male</td>\n",
       "      <td>35.0</td>\n",
       "      <td>0</td>\n",
       "      <td>0</td>\n",
       "      <td>373450</td>\n",
       "      <td>8.0500</td>\n",
       "      <td>NaN</td>\n",
       "      <td>S</td>\n",
       "      <td>1</td>\n",
       "    </tr>\n",
       "  </tbody>\n",
       "</table>\n",
       "</div>"
      ],
      "text/plain": [
       "   Pclass     Sex   Age  SibSp  Parch            Ticket     Fare Cabin  \\\n",
       "0       3    male  22.0      1      0         A/5 21171   7.2500   NaN   \n",
       "1       1  female  38.0      1      0          PC 17599  71.2833   C85   \n",
       "2       3  female  26.0      0      0  STON/O2. 3101282   7.9250   NaN   \n",
       "3       1  female  35.0      1      0            113803  53.1000  C123   \n",
       "4       3    male  35.0      0      0            373450   8.0500   NaN   \n",
       "\n",
       "  Embarked  Title  \n",
       "0        S      1  \n",
       "1        C      3  \n",
       "2        S      2  \n",
       "3        S      3  \n",
       "4        S      1  "
      ]
     },
     "execution_count": 36,
     "metadata": {},
     "output_type": "execute_result"
    }
   ],
   "source": [
    "combined.head()"
   ]
  },
  {
   "cell_type": "markdown",
   "metadata": {
    "papermill": {
     "duration": 0.029407,
     "end_time": "2020-09-09T17:50:46.432561",
     "exception": false,
     "start_time": "2020-09-09T17:50:46.403154",
     "status": "completed"
    },
    "tags": []
   },
   "source": [
    "### Processing Sex column"
   ]
  },
  {
   "cell_type": "code",
   "execution_count": 37,
   "metadata": {
    "execution": {
     "iopub.execute_input": "2020-09-09T17:50:46.504826Z",
     "iopub.status.busy": "2020-09-09T17:50:46.503743Z",
     "iopub.status.idle": "2020-09-09T17:50:46.506401Z",
     "shell.execute_reply": "2020-09-09T17:50:46.506889Z"
    },
    "papermill": {
     "duration": 0.045003,
     "end_time": "2020-09-09T17:50:46.507060",
     "exception": false,
     "start_time": "2020-09-09T17:50:46.462057",
     "status": "completed"
    },
    "tags": []
   },
   "outputs": [],
   "source": [
    "combined[\"Sex\"][combined[\"Sex\"] == \"male\"] = 0\n",
    "combined[\"Sex\"][combined[\"Sex\"] == \"female\"] = 1\n",
    "combined[\"Sex\"] = combined[\"Sex\"].astype(int)"
   ]
  },
  {
   "cell_type": "code",
   "execution_count": 38,
   "metadata": {
    "execution": {
     "iopub.execute_input": "2020-09-09T17:50:46.571127Z",
     "iopub.status.busy": "2020-09-09T17:50:46.570052Z",
     "iopub.status.idle": "2020-09-09T17:50:46.585629Z",
     "shell.execute_reply": "2020-09-09T17:50:46.586113Z"
    },
    "papermill": {
     "duration": 0.049649,
     "end_time": "2020-09-09T17:50:46.586278",
     "exception": false,
     "start_time": "2020-09-09T17:50:46.536629",
     "status": "completed"
    },
    "tags": []
   },
   "outputs": [
    {
     "data": {
      "text/html": [
       "<div>\n",
       "<style scoped>\n",
       "    .dataframe tbody tr th:only-of-type {\n",
       "        vertical-align: middle;\n",
       "    }\n",
       "\n",
       "    .dataframe tbody tr th {\n",
       "        vertical-align: top;\n",
       "    }\n",
       "\n",
       "    .dataframe thead th {\n",
       "        text-align: right;\n",
       "    }\n",
       "</style>\n",
       "<table border=\"1\" class=\"dataframe\">\n",
       "  <thead>\n",
       "    <tr style=\"text-align: right;\">\n",
       "      <th></th>\n",
       "      <th>Pclass</th>\n",
       "      <th>Sex</th>\n",
       "      <th>Age</th>\n",
       "      <th>SibSp</th>\n",
       "      <th>Parch</th>\n",
       "      <th>Ticket</th>\n",
       "      <th>Fare</th>\n",
       "      <th>Cabin</th>\n",
       "      <th>Embarked</th>\n",
       "      <th>Title</th>\n",
       "    </tr>\n",
       "  </thead>\n",
       "  <tbody>\n",
       "    <tr>\n",
       "      <th>0</th>\n",
       "      <td>3</td>\n",
       "      <td>0</td>\n",
       "      <td>22.0</td>\n",
       "      <td>1</td>\n",
       "      <td>0</td>\n",
       "      <td>A/5 21171</td>\n",
       "      <td>7.2500</td>\n",
       "      <td>NaN</td>\n",
       "      <td>S</td>\n",
       "      <td>1</td>\n",
       "    </tr>\n",
       "    <tr>\n",
       "      <th>1</th>\n",
       "      <td>1</td>\n",
       "      <td>1</td>\n",
       "      <td>38.0</td>\n",
       "      <td>1</td>\n",
       "      <td>0</td>\n",
       "      <td>PC 17599</td>\n",
       "      <td>71.2833</td>\n",
       "      <td>C85</td>\n",
       "      <td>C</td>\n",
       "      <td>3</td>\n",
       "    </tr>\n",
       "    <tr>\n",
       "      <th>2</th>\n",
       "      <td>3</td>\n",
       "      <td>1</td>\n",
       "      <td>26.0</td>\n",
       "      <td>0</td>\n",
       "      <td>0</td>\n",
       "      <td>STON/O2. 3101282</td>\n",
       "      <td>7.9250</td>\n",
       "      <td>NaN</td>\n",
       "      <td>S</td>\n",
       "      <td>2</td>\n",
       "    </tr>\n",
       "    <tr>\n",
       "      <th>3</th>\n",
       "      <td>1</td>\n",
       "      <td>1</td>\n",
       "      <td>35.0</td>\n",
       "      <td>1</td>\n",
       "      <td>0</td>\n",
       "      <td>113803</td>\n",
       "      <td>53.1000</td>\n",
       "      <td>C123</td>\n",
       "      <td>S</td>\n",
       "      <td>3</td>\n",
       "    </tr>\n",
       "    <tr>\n",
       "      <th>4</th>\n",
       "      <td>3</td>\n",
       "      <td>0</td>\n",
       "      <td>35.0</td>\n",
       "      <td>0</td>\n",
       "      <td>0</td>\n",
       "      <td>373450</td>\n",
       "      <td>8.0500</td>\n",
       "      <td>NaN</td>\n",
       "      <td>S</td>\n",
       "      <td>1</td>\n",
       "    </tr>\n",
       "  </tbody>\n",
       "</table>\n",
       "</div>"
      ],
      "text/plain": [
       "   Pclass  Sex   Age  SibSp  Parch            Ticket     Fare Cabin Embarked  \\\n",
       "0       3    0  22.0      1      0         A/5 21171   7.2500   NaN        S   \n",
       "1       1    1  38.0      1      0          PC 17599  71.2833   C85        C   \n",
       "2       3    1  26.0      0      0  STON/O2. 3101282   7.9250   NaN        S   \n",
       "3       1    1  35.0      1      0            113803  53.1000  C123        S   \n",
       "4       3    0  35.0      0      0            373450   8.0500   NaN        S   \n",
       "\n",
       "   Title  \n",
       "0      1  \n",
       "1      3  \n",
       "2      2  \n",
       "3      3  \n",
       "4      1  "
      ]
     },
     "execution_count": 38,
     "metadata": {},
     "output_type": "execute_result"
    }
   ],
   "source": [
    "combined.head()"
   ]
  },
  {
   "cell_type": "markdown",
   "metadata": {
    "papermill": {
     "duration": 0.029491,
     "end_time": "2020-09-09T17:50:46.645607",
     "exception": false,
     "start_time": "2020-09-09T17:50:46.616116",
     "status": "completed"
    },
    "tags": []
   },
   "source": [
    "### Processing Age column"
   ]
  },
  {
   "cell_type": "code",
   "execution_count": 39,
   "metadata": {
    "execution": {
     "iopub.execute_input": "2020-09-09T17:50:46.709161Z",
     "iopub.status.busy": "2020-09-09T17:50:46.708102Z",
     "iopub.status.idle": "2020-09-09T17:50:46.732428Z",
     "shell.execute_reply": "2020-09-09T17:50:46.731914Z"
    },
    "papermill": {
     "duration": 0.057345,
     "end_time": "2020-09-09T17:50:46.732579",
     "exception": false,
     "start_time": "2020-09-09T17:50:46.675234",
     "status": "completed"
    },
    "tags": []
   },
   "outputs": [
    {
     "data": {
      "text/html": [
       "<div>\n",
       "<style scoped>\n",
       "    .dataframe tbody tr th:only-of-type {\n",
       "        vertical-align: middle;\n",
       "    }\n",
       "\n",
       "    .dataframe tbody tr th {\n",
       "        vertical-align: top;\n",
       "    }\n",
       "\n",
       "    .dataframe thead th {\n",
       "        text-align: right;\n",
       "    }\n",
       "</style>\n",
       "<table border=\"1\" class=\"dataframe\">\n",
       "  <thead>\n",
       "    <tr style=\"text-align: right;\">\n",
       "      <th></th>\n",
       "      <th>count</th>\n",
       "      <th>mean</th>\n",
       "      <th>std</th>\n",
       "      <th>min</th>\n",
       "      <th>25%</th>\n",
       "      <th>50%</th>\n",
       "      <th>75%</th>\n",
       "      <th>max</th>\n",
       "    </tr>\n",
       "    <tr>\n",
       "      <th>Pclass</th>\n",
       "      <th></th>\n",
       "      <th></th>\n",
       "      <th></th>\n",
       "      <th></th>\n",
       "      <th></th>\n",
       "      <th></th>\n",
       "      <th></th>\n",
       "      <th></th>\n",
       "    </tr>\n",
       "  </thead>\n",
       "  <tbody>\n",
       "    <tr>\n",
       "      <th>1</th>\n",
       "      <td>281.0</td>\n",
       "      <td>39.343132</td>\n",
       "      <td>14.514617</td>\n",
       "      <td>0.92</td>\n",
       "      <td>28.5</td>\n",
       "      <td>39.0</td>\n",
       "      <td>50.0</td>\n",
       "      <td>80.0</td>\n",
       "    </tr>\n",
       "    <tr>\n",
       "      <th>2</th>\n",
       "      <td>261.0</td>\n",
       "      <td>29.506705</td>\n",
       "      <td>13.638627</td>\n",
       "      <td>0.67</td>\n",
       "      <td>22.0</td>\n",
       "      <td>29.0</td>\n",
       "      <td>36.0</td>\n",
       "      <td>70.0</td>\n",
       "    </tr>\n",
       "    <tr>\n",
       "      <th>3</th>\n",
       "      <td>501.0</td>\n",
       "      <td>24.816367</td>\n",
       "      <td>11.958202</td>\n",
       "      <td>0.17</td>\n",
       "      <td>18.0</td>\n",
       "      <td>24.0</td>\n",
       "      <td>32.0</td>\n",
       "      <td>74.0</td>\n",
       "    </tr>\n",
       "  </tbody>\n",
       "</table>\n",
       "</div>"
      ],
      "text/plain": [
       "        count       mean        std   min   25%   50%   75%   max\n",
       "Pclass                                                           \n",
       "1       281.0  39.343132  14.514617  0.92  28.5  39.0  50.0  80.0\n",
       "2       261.0  29.506705  13.638627  0.67  22.0  29.0  36.0  70.0\n",
       "3       501.0  24.816367  11.958202  0.17  18.0  24.0  32.0  74.0"
      ]
     },
     "execution_count": 39,
     "metadata": {},
     "output_type": "execute_result"
    }
   ],
   "source": [
    "#Age column in highly crrelated with Pclass column\n",
    "combined.groupby('Pclass')['Age'].describe()"
   ]
  },
  {
   "cell_type": "code",
   "execution_count": 40,
   "metadata": {
    "execution": {
     "iopub.execute_input": "2020-09-09T17:50:46.802788Z",
     "iopub.status.busy": "2020-09-09T17:50:46.802047Z",
     "iopub.status.idle": "2020-09-09T17:50:46.808914Z",
     "shell.execute_reply": "2020-09-09T17:50:46.808361Z"
    },
    "papermill": {
     "duration": 0.046193,
     "end_time": "2020-09-09T17:50:46.809039",
     "exception": false,
     "start_time": "2020-09-09T17:50:46.762846",
     "status": "completed"
    },
    "tags": []
   },
   "outputs": [],
   "source": [
    "#Filling null values with median of ages in different classes\n",
    "combined['Age'] = combined.groupby('Pclass')['Age'].transform(lambda x: x.fillna(x.median()))"
   ]
  },
  {
   "cell_type": "code",
   "execution_count": 41,
   "metadata": {
    "execution": {
     "iopub.execute_input": "2020-09-09T17:50:46.877196Z",
     "iopub.status.busy": "2020-09-09T17:50:46.876392Z",
     "iopub.status.idle": "2020-09-09T17:50:46.879490Z",
     "shell.execute_reply": "2020-09-09T17:50:46.878794Z"
    },
    "papermill": {
     "duration": 0.039896,
     "end_time": "2020-09-09T17:50:46.879672",
     "exception": false,
     "start_time": "2020-09-09T17:50:46.839776",
     "status": "completed"
    },
    "tags": []
   },
   "outputs": [],
   "source": [
    "combined[\"Age\"] = combined[\"Age\"].astype(int)"
   ]
  },
  {
   "cell_type": "code",
   "execution_count": 42,
   "metadata": {
    "execution": {
     "iopub.execute_input": "2020-09-09T17:50:46.949116Z",
     "iopub.status.busy": "2020-09-09T17:50:46.947527Z",
     "iopub.status.idle": "2020-09-09T17:50:46.951748Z",
     "shell.execute_reply": "2020-09-09T17:50:46.952254Z"
    },
    "papermill": {
     "duration": 0.041853,
     "end_time": "2020-09-09T17:50:46.952403",
     "exception": false,
     "start_time": "2020-09-09T17:50:46.910550",
     "status": "completed"
    },
    "tags": []
   },
   "outputs": [],
   "source": [
    "#cutting age in different groups\n",
    "combined['Age_cat'] = pd.qcut(combined['Age'],q=[0, .16, .33, .49, .66, .83, 1], labels=False, precision=1)"
   ]
  },
  {
   "cell_type": "code",
   "execution_count": 43,
   "metadata": {
    "execution": {
     "iopub.execute_input": "2020-09-09T17:50:47.016165Z",
     "iopub.status.busy": "2020-09-09T17:50:47.015486Z",
     "iopub.status.idle": "2020-09-09T17:50:47.031087Z",
     "shell.execute_reply": "2020-09-09T17:50:47.030489Z"
    },
    "papermill": {
     "duration": 0.04886,
     "end_time": "2020-09-09T17:50:47.031206",
     "exception": false,
     "start_time": "2020-09-09T17:50:46.982346",
     "status": "completed"
    },
    "tags": []
   },
   "outputs": [
    {
     "data": {
      "text/html": [
       "<div>\n",
       "<style scoped>\n",
       "    .dataframe tbody tr th:only-of-type {\n",
       "        vertical-align: middle;\n",
       "    }\n",
       "\n",
       "    .dataframe tbody tr th {\n",
       "        vertical-align: top;\n",
       "    }\n",
       "\n",
       "    .dataframe thead th {\n",
       "        text-align: right;\n",
       "    }\n",
       "</style>\n",
       "<table border=\"1\" class=\"dataframe\">\n",
       "  <thead>\n",
       "    <tr style=\"text-align: right;\">\n",
       "      <th></th>\n",
       "      <th>Pclass</th>\n",
       "      <th>Sex</th>\n",
       "      <th>Age</th>\n",
       "      <th>SibSp</th>\n",
       "      <th>Parch</th>\n",
       "      <th>Ticket</th>\n",
       "      <th>Fare</th>\n",
       "      <th>Cabin</th>\n",
       "      <th>Embarked</th>\n",
       "      <th>Title</th>\n",
       "      <th>Age_cat</th>\n",
       "    </tr>\n",
       "  </thead>\n",
       "  <tbody>\n",
       "    <tr>\n",
       "      <th>0</th>\n",
       "      <td>3</td>\n",
       "      <td>0</td>\n",
       "      <td>22</td>\n",
       "      <td>1</td>\n",
       "      <td>0</td>\n",
       "      <td>A/5 21171</td>\n",
       "      <td>7.2500</td>\n",
       "      <td>NaN</td>\n",
       "      <td>S</td>\n",
       "      <td>1</td>\n",
       "      <td>1</td>\n",
       "    </tr>\n",
       "    <tr>\n",
       "      <th>1</th>\n",
       "      <td>1</td>\n",
       "      <td>1</td>\n",
       "      <td>38</td>\n",
       "      <td>1</td>\n",
       "      <td>0</td>\n",
       "      <td>PC 17599</td>\n",
       "      <td>71.2833</td>\n",
       "      <td>C85</td>\n",
       "      <td>C</td>\n",
       "      <td>3</td>\n",
       "      <td>4</td>\n",
       "    </tr>\n",
       "    <tr>\n",
       "      <th>2</th>\n",
       "      <td>3</td>\n",
       "      <td>1</td>\n",
       "      <td>26</td>\n",
       "      <td>0</td>\n",
       "      <td>0</td>\n",
       "      <td>STON/O2. 3101282</td>\n",
       "      <td>7.9250</td>\n",
       "      <td>NaN</td>\n",
       "      <td>S</td>\n",
       "      <td>2</td>\n",
       "      <td>3</td>\n",
       "    </tr>\n",
       "    <tr>\n",
       "      <th>3</th>\n",
       "      <td>1</td>\n",
       "      <td>1</td>\n",
       "      <td>35</td>\n",
       "      <td>1</td>\n",
       "      <td>0</td>\n",
       "      <td>113803</td>\n",
       "      <td>53.1000</td>\n",
       "      <td>C123</td>\n",
       "      <td>S</td>\n",
       "      <td>3</td>\n",
       "      <td>4</td>\n",
       "    </tr>\n",
       "    <tr>\n",
       "      <th>4</th>\n",
       "      <td>3</td>\n",
       "      <td>0</td>\n",
       "      <td>35</td>\n",
       "      <td>0</td>\n",
       "      <td>0</td>\n",
       "      <td>373450</td>\n",
       "      <td>8.0500</td>\n",
       "      <td>NaN</td>\n",
       "      <td>S</td>\n",
       "      <td>1</td>\n",
       "      <td>4</td>\n",
       "    </tr>\n",
       "  </tbody>\n",
       "</table>\n",
       "</div>"
      ],
      "text/plain": [
       "   Pclass  Sex  Age  SibSp  Parch            Ticket     Fare Cabin Embarked  \\\n",
       "0       3    0   22      1      0         A/5 21171   7.2500   NaN        S   \n",
       "1       1    1   38      1      0          PC 17599  71.2833   C85        C   \n",
       "2       3    1   26      0      0  STON/O2. 3101282   7.9250   NaN        S   \n",
       "3       1    1   35      1      0            113803  53.1000  C123        S   \n",
       "4       3    0   35      0      0            373450   8.0500   NaN        S   \n",
       "\n",
       "   Title  Age_cat  \n",
       "0      1        1  \n",
       "1      3        4  \n",
       "2      2        3  \n",
       "3      3        4  \n",
       "4      1        4  "
      ]
     },
     "execution_count": 43,
     "metadata": {},
     "output_type": "execute_result"
    }
   ],
   "source": [
    "combined.head()"
   ]
  },
  {
   "cell_type": "markdown",
   "metadata": {
    "papermill": {
     "duration": 0.029981,
     "end_time": "2020-09-09T17:50:47.091617",
     "exception": false,
     "start_time": "2020-09-09T17:50:47.061636",
     "status": "completed"
    },
    "tags": []
   },
   "source": [
    "### Processing Ticket column"
   ]
  },
  {
   "cell_type": "code",
   "execution_count": 44,
   "metadata": {
    "execution": {
     "iopub.execute_input": "2020-09-09T17:50:47.155975Z",
     "iopub.status.busy": "2020-09-09T17:50:47.155241Z",
     "iopub.status.idle": "2020-09-09T17:50:47.163683Z",
     "shell.execute_reply": "2020-09-09T17:50:47.164221Z"
    },
    "papermill": {
     "duration": 0.042705,
     "end_time": "2020-09-09T17:50:47.164399",
     "exception": false,
     "start_time": "2020-09-09T17:50:47.121694",
     "status": "completed"
    },
    "tags": []
   },
   "outputs": [],
   "source": [
    "#Keeping only alphabets and removing numbers from ticket name, \n",
    "#if there is no any alphabets then replace the string with \"x\"\n",
    "tickets = []\n",
    "for i in list(combined.Ticket):\n",
    "    if not i.isdigit():\n",
    "        tickets.append(i.replace(\".\",\"\").replace(\"/\",\"\").strip().split(\" \")[0])\n",
    "    else:\n",
    "        tickets.append(\"x\")"
   ]
  },
  {
   "cell_type": "code",
   "execution_count": 45,
   "metadata": {
    "execution": {
     "iopub.execute_input": "2020-09-09T17:50:47.232589Z",
     "iopub.status.busy": "2020-09-09T17:50:47.231926Z",
     "iopub.status.idle": "2020-09-09T17:50:47.234689Z",
     "shell.execute_reply": "2020-09-09T17:50:47.235209Z"
    },
    "papermill": {
     "duration": 0.039462,
     "end_time": "2020-09-09T17:50:47.235372",
     "exception": false,
     "start_time": "2020-09-09T17:50:47.195910",
     "status": "completed"
    },
    "tags": []
   },
   "outputs": [],
   "source": [
    "combined['Ticket'] = tickets"
   ]
  },
  {
   "cell_type": "code",
   "execution_count": 46,
   "metadata": {
    "execution": {
     "iopub.execute_input": "2020-09-09T17:50:47.300336Z",
     "iopub.status.busy": "2020-09-09T17:50:47.299692Z",
     "iopub.status.idle": "2020-09-09T17:50:47.308316Z",
     "shell.execute_reply": "2020-09-09T17:50:47.308874Z"
    },
    "papermill": {
     "duration": 0.042645,
     "end_time": "2020-09-09T17:50:47.309034",
     "exception": false,
     "start_time": "2020-09-09T17:50:47.266389",
     "status": "completed"
    },
    "tags": []
   },
   "outputs": [],
   "source": [
    "combined = pd.get_dummies(combined, columns= [\"Ticket\"], prefix = \"T\")"
   ]
  },
  {
   "cell_type": "code",
   "execution_count": 47,
   "metadata": {
    "execution": {
     "iopub.execute_input": "2020-09-09T17:50:47.374196Z",
     "iopub.status.busy": "2020-09-09T17:50:47.373526Z",
     "iopub.status.idle": "2020-09-09T17:50:47.394951Z",
     "shell.execute_reply": "2020-09-09T17:50:47.395493Z"
    },
    "papermill": {
     "duration": 0.055881,
     "end_time": "2020-09-09T17:50:47.395651",
     "exception": false,
     "start_time": "2020-09-09T17:50:47.339770",
     "status": "completed"
    },
    "tags": []
   },
   "outputs": [
    {
     "data": {
      "text/html": [
       "<div>\n",
       "<style scoped>\n",
       "    .dataframe tbody tr th:only-of-type {\n",
       "        vertical-align: middle;\n",
       "    }\n",
       "\n",
       "    .dataframe tbody tr th {\n",
       "        vertical-align: top;\n",
       "    }\n",
       "\n",
       "    .dataframe thead th {\n",
       "        text-align: right;\n",
       "    }\n",
       "</style>\n",
       "<table border=\"1\" class=\"dataframe\">\n",
       "  <thead>\n",
       "    <tr style=\"text-align: right;\">\n",
       "      <th></th>\n",
       "      <th>Pclass</th>\n",
       "      <th>Sex</th>\n",
       "      <th>Age</th>\n",
       "      <th>SibSp</th>\n",
       "      <th>Parch</th>\n",
       "      <th>Fare</th>\n",
       "      <th>Cabin</th>\n",
       "      <th>Embarked</th>\n",
       "      <th>Title</th>\n",
       "      <th>Age_cat</th>\n",
       "      <th>...</th>\n",
       "      <th>T_SOTONO2</th>\n",
       "      <th>T_SOTONOQ</th>\n",
       "      <th>T_SP</th>\n",
       "      <th>T_STONO</th>\n",
       "      <th>T_STONO2</th>\n",
       "      <th>T_STONOQ</th>\n",
       "      <th>T_SWPP</th>\n",
       "      <th>T_WC</th>\n",
       "      <th>T_WEP</th>\n",
       "      <th>T_x</th>\n",
       "    </tr>\n",
       "  </thead>\n",
       "  <tbody>\n",
       "    <tr>\n",
       "      <th>0</th>\n",
       "      <td>3</td>\n",
       "      <td>0</td>\n",
       "      <td>22</td>\n",
       "      <td>1</td>\n",
       "      <td>0</td>\n",
       "      <td>7.2500</td>\n",
       "      <td>NaN</td>\n",
       "      <td>S</td>\n",
       "      <td>1</td>\n",
       "      <td>1</td>\n",
       "      <td>...</td>\n",
       "      <td>0</td>\n",
       "      <td>0</td>\n",
       "      <td>0</td>\n",
       "      <td>0</td>\n",
       "      <td>0</td>\n",
       "      <td>0</td>\n",
       "      <td>0</td>\n",
       "      <td>0</td>\n",
       "      <td>0</td>\n",
       "      <td>0</td>\n",
       "    </tr>\n",
       "    <tr>\n",
       "      <th>1</th>\n",
       "      <td>1</td>\n",
       "      <td>1</td>\n",
       "      <td>38</td>\n",
       "      <td>1</td>\n",
       "      <td>0</td>\n",
       "      <td>71.2833</td>\n",
       "      <td>C85</td>\n",
       "      <td>C</td>\n",
       "      <td>3</td>\n",
       "      <td>4</td>\n",
       "      <td>...</td>\n",
       "      <td>0</td>\n",
       "      <td>0</td>\n",
       "      <td>0</td>\n",
       "      <td>0</td>\n",
       "      <td>0</td>\n",
       "      <td>0</td>\n",
       "      <td>0</td>\n",
       "      <td>0</td>\n",
       "      <td>0</td>\n",
       "      <td>0</td>\n",
       "    </tr>\n",
       "    <tr>\n",
       "      <th>2</th>\n",
       "      <td>3</td>\n",
       "      <td>1</td>\n",
       "      <td>26</td>\n",
       "      <td>0</td>\n",
       "      <td>0</td>\n",
       "      <td>7.9250</td>\n",
       "      <td>NaN</td>\n",
       "      <td>S</td>\n",
       "      <td>2</td>\n",
       "      <td>3</td>\n",
       "      <td>...</td>\n",
       "      <td>0</td>\n",
       "      <td>0</td>\n",
       "      <td>0</td>\n",
       "      <td>0</td>\n",
       "      <td>1</td>\n",
       "      <td>0</td>\n",
       "      <td>0</td>\n",
       "      <td>0</td>\n",
       "      <td>0</td>\n",
       "      <td>0</td>\n",
       "    </tr>\n",
       "    <tr>\n",
       "      <th>3</th>\n",
       "      <td>1</td>\n",
       "      <td>1</td>\n",
       "      <td>35</td>\n",
       "      <td>1</td>\n",
       "      <td>0</td>\n",
       "      <td>53.1000</td>\n",
       "      <td>C123</td>\n",
       "      <td>S</td>\n",
       "      <td>3</td>\n",
       "      <td>4</td>\n",
       "      <td>...</td>\n",
       "      <td>0</td>\n",
       "      <td>0</td>\n",
       "      <td>0</td>\n",
       "      <td>0</td>\n",
       "      <td>0</td>\n",
       "      <td>0</td>\n",
       "      <td>0</td>\n",
       "      <td>0</td>\n",
       "      <td>0</td>\n",
       "      <td>1</td>\n",
       "    </tr>\n",
       "    <tr>\n",
       "      <th>4</th>\n",
       "      <td>3</td>\n",
       "      <td>0</td>\n",
       "      <td>35</td>\n",
       "      <td>0</td>\n",
       "      <td>0</td>\n",
       "      <td>8.0500</td>\n",
       "      <td>NaN</td>\n",
       "      <td>S</td>\n",
       "      <td>1</td>\n",
       "      <td>4</td>\n",
       "      <td>...</td>\n",
       "      <td>0</td>\n",
       "      <td>0</td>\n",
       "      <td>0</td>\n",
       "      <td>0</td>\n",
       "      <td>0</td>\n",
       "      <td>0</td>\n",
       "      <td>0</td>\n",
       "      <td>0</td>\n",
       "      <td>0</td>\n",
       "      <td>1</td>\n",
       "    </tr>\n",
       "  </tbody>\n",
       "</table>\n",
       "<p>5 rows × 47 columns</p>\n",
       "</div>"
      ],
      "text/plain": [
       "   Pclass  Sex  Age  SibSp  Parch     Fare Cabin Embarked  Title  Age_cat  \\\n",
       "0       3    0   22      1      0   7.2500   NaN        S      1        1   \n",
       "1       1    1   38      1      0  71.2833   C85        C      3        4   \n",
       "2       3    1   26      0      0   7.9250   NaN        S      2        3   \n",
       "3       1    1   35      1      0  53.1000  C123        S      3        4   \n",
       "4       3    0   35      0      0   8.0500   NaN        S      1        4   \n",
       "\n",
       "   ...  T_SOTONO2  T_SOTONOQ  T_SP  T_STONO  T_STONO2  T_STONOQ  T_SWPP  T_WC  \\\n",
       "0  ...          0          0     0        0         0         0       0     0   \n",
       "1  ...          0          0     0        0         0         0       0     0   \n",
       "2  ...          0          0     0        0         1         0       0     0   \n",
       "3  ...          0          0     0        0         0         0       0     0   \n",
       "4  ...          0          0     0        0         0         0       0     0   \n",
       "\n",
       "   T_WEP  T_x  \n",
       "0      0    0  \n",
       "1      0    0  \n",
       "2      0    0  \n",
       "3      0    1  \n",
       "4      0    1  \n",
       "\n",
       "[5 rows x 47 columns]"
      ]
     },
     "execution_count": 47,
     "metadata": {},
     "output_type": "execute_result"
    }
   ],
   "source": [
    "combined.head()"
   ]
  },
  {
   "cell_type": "markdown",
   "metadata": {
    "papermill": {
     "duration": 0.030461,
     "end_time": "2020-09-09T17:50:47.457136",
     "exception": false,
     "start_time": "2020-09-09T17:50:47.426675",
     "status": "completed"
    },
    "tags": []
   },
   "source": [
    "### Processing Fare column\n",
    "Here we simply fill the null values of fare with the mean in the train set and ignore the values which have zero fare for first iteration,After testing our model for the first time ,we will come back and check again if treating those values would make a difference"
   ]
  },
  {
   "cell_type": "code",
   "execution_count": 48,
   "metadata": {
    "execution": {
     "iopub.execute_input": "2020-09-09T17:50:47.523672Z",
     "iopub.status.busy": "2020-09-09T17:50:47.522966Z",
     "iopub.status.idle": "2020-09-09T17:50:47.531869Z",
     "shell.execute_reply": "2020-09-09T17:50:47.532397Z"
    },
    "papermill": {
     "duration": 0.0442,
     "end_time": "2020-09-09T17:50:47.532569",
     "exception": false,
     "start_time": "2020-09-09T17:50:47.488369",
     "status": "completed"
    },
    "tags": []
   },
   "outputs": [],
   "source": [
    "combined['Fare'] = combined.groupby(\"Pclass\")['Fare'].transform(lambda x: x.fillna(x.median())) "
   ]
  },
  {
   "cell_type": "code",
   "execution_count": 49,
   "metadata": {
    "execution": {
     "iopub.execute_input": "2020-09-09T17:50:47.598023Z",
     "iopub.status.busy": "2020-09-09T17:50:47.597396Z",
     "iopub.status.idle": "2020-09-09T17:50:47.605992Z",
     "shell.execute_reply": "2020-09-09T17:50:47.605249Z"
    },
    "papermill": {
     "duration": 0.042713,
     "end_time": "2020-09-09T17:50:47.606118",
     "exception": false,
     "start_time": "2020-09-09T17:50:47.563405",
     "status": "completed"
    },
    "tags": []
   },
   "outputs": [],
   "source": [
    "combined['Zero_Fare'] = combined['Fare'].map(lambda x: 1 if x == 0 else (0))"
   ]
  },
  {
   "cell_type": "code",
   "execution_count": 50,
   "metadata": {
    "execution": {
     "iopub.execute_input": "2020-09-09T17:50:47.676288Z",
     "iopub.status.busy": "2020-09-09T17:50:47.675241Z",
     "iopub.status.idle": "2020-09-09T17:50:47.678439Z",
     "shell.execute_reply": "2020-09-09T17:50:47.677913Z"
    },
    "papermill": {
     "duration": 0.040903,
     "end_time": "2020-09-09T17:50:47.678582",
     "exception": false,
     "start_time": "2020-09-09T17:50:47.637679",
     "status": "completed"
    },
    "tags": []
   },
   "outputs": [],
   "source": [
    "def fare_category(fr): \n",
    "    if fr <= 7.91:\n",
    "        return 1\n",
    "    elif fr <= 14.454 and fr > 7.91:\n",
    "        return 2\n",
    "    elif fr <= 31 and fr > 14.454:\n",
    "        return 3\n",
    "    return 4"
   ]
  },
  {
   "cell_type": "code",
   "execution_count": 51,
   "metadata": {
    "execution": {
     "iopub.execute_input": "2020-09-09T17:50:47.852117Z",
     "iopub.status.busy": "2020-09-09T17:50:47.850965Z",
     "iopub.status.idle": "2020-09-09T17:50:47.854414Z",
     "shell.execute_reply": "2020-09-09T17:50:47.853834Z"
    },
    "papermill": {
     "duration": 0.143546,
     "end_time": "2020-09-09T17:50:47.854563",
     "exception": false,
     "start_time": "2020-09-09T17:50:47.711017",
     "status": "completed"
    },
    "tags": []
   },
   "outputs": [],
   "source": [
    "combined['Fare_cat'] = combined['Fare'].apply(fare_category) "
   ]
  },
  {
   "cell_type": "code",
   "execution_count": 52,
   "metadata": {
    "execution": {
     "iopub.execute_input": "2020-09-09T17:50:47.921167Z",
     "iopub.status.busy": "2020-09-09T17:50:47.920557Z",
     "iopub.status.idle": "2020-09-09T17:50:47.937451Z",
     "shell.execute_reply": "2020-09-09T17:50:47.937982Z"
    },
    "papermill": {
     "duration": 0.052013,
     "end_time": "2020-09-09T17:50:47.938145",
     "exception": false,
     "start_time": "2020-09-09T17:50:47.886132",
     "status": "completed"
    },
    "tags": []
   },
   "outputs": [
    {
     "name": "stdout",
     "output_type": "stream",
     "text": [
      "<class 'pandas.core.frame.DataFrame'>\n",
      "RangeIndex: 1299 entries, 0 to 1298\n",
      "Data columns (total 49 columns):\n",
      " #   Column     Non-Null Count  Dtype  \n",
      "---  ------     --------------  -----  \n",
      " 0   Pclass     1299 non-null   int64  \n",
      " 1   Sex        1299 non-null   int64  \n",
      " 2   Age        1299 non-null   int64  \n",
      " 3   SibSp      1299 non-null   int64  \n",
      " 4   Parch      1299 non-null   int64  \n",
      " 5   Fare       1299 non-null   float64\n",
      " 6   Cabin      292 non-null    object \n",
      " 7   Embarked   1297 non-null   object \n",
      " 8   Title      1299 non-null   int64  \n",
      " 9   Age_cat    1299 non-null   int64  \n",
      " 10  T_A        1299 non-null   uint8  \n",
      " 11  T_A4       1299 non-null   uint8  \n",
      " 12  T_A5       1299 non-null   uint8  \n",
      " 13  T_AQ3      1299 non-null   uint8  \n",
      " 14  T_AQ4      1299 non-null   uint8  \n",
      " 15  T_AS       1299 non-null   uint8  \n",
      " 16  T_C        1299 non-null   uint8  \n",
      " 17  T_CA       1299 non-null   uint8  \n",
      " 18  T_CASOTON  1299 non-null   uint8  \n",
      " 19  T_FC       1299 non-null   uint8  \n",
      " 20  T_FCC      1299 non-null   uint8  \n",
      " 21  T_Fa       1299 non-null   uint8  \n",
      " 22  T_LINE     1299 non-null   uint8  \n",
      " 23  T_LP       1299 non-null   uint8  \n",
      " 24  T_PC       1299 non-null   uint8  \n",
      " 25  T_PP       1299 non-null   uint8  \n",
      " 26  T_PPP      1299 non-null   uint8  \n",
      " 27  T_SC       1299 non-null   uint8  \n",
      " 28  T_SCA3     1299 non-null   uint8  \n",
      " 29  T_SCA4     1299 non-null   uint8  \n",
      " 30  T_SCAH     1299 non-null   uint8  \n",
      " 31  T_SCOW     1299 non-null   uint8  \n",
      " 32  T_SCPARIS  1299 non-null   uint8  \n",
      " 33  T_SCParis  1299 non-null   uint8  \n",
      " 34  T_SOC      1299 non-null   uint8  \n",
      " 35  T_SOP      1299 non-null   uint8  \n",
      " 36  T_SOPP     1299 non-null   uint8  \n",
      " 37  T_SOTONO2  1299 non-null   uint8  \n",
      " 38  T_SOTONOQ  1299 non-null   uint8  \n",
      " 39  T_SP       1299 non-null   uint8  \n",
      " 40  T_STONO    1299 non-null   uint8  \n",
      " 41  T_STONO2   1299 non-null   uint8  \n",
      " 42  T_STONOQ   1299 non-null   uint8  \n",
      " 43  T_SWPP     1299 non-null   uint8  \n",
      " 44  T_WC       1299 non-null   uint8  \n",
      " 45  T_WEP      1299 non-null   uint8  \n",
      " 46  T_x        1299 non-null   uint8  \n",
      " 47  Zero_Fare  1299 non-null   int64  \n",
      " 48  Fare_cat   1299 non-null   int64  \n",
      "dtypes: float64(1), int64(9), object(2), uint8(37)\n",
      "memory usage: 168.8+ KB\n"
     ]
    }
   ],
   "source": [
    "combined.info()"
   ]
  },
  {
   "cell_type": "markdown",
   "metadata": {
    "papermill": {
     "duration": 0.031031,
     "end_time": "2020-09-09T17:50:48.001421",
     "exception": false,
     "start_time": "2020-09-09T17:50:47.970390",
     "status": "completed"
    },
    "tags": []
   },
   "source": [
    "### Processing Embarked column"
   ]
  },
  {
   "cell_type": "code",
   "execution_count": 53,
   "metadata": {
    "execution": {
     "iopub.execute_input": "2020-09-09T17:50:48.070423Z",
     "iopub.status.busy": "2020-09-09T17:50:48.069388Z",
     "iopub.status.idle": "2020-09-09T17:50:48.084671Z",
     "shell.execute_reply": "2020-09-09T17:50:48.085174Z"
    },
    "papermill": {
     "duration": 0.051241,
     "end_time": "2020-09-09T17:50:48.085346",
     "exception": false,
     "start_time": "2020-09-09T17:50:48.034105",
     "status": "completed"
    },
    "tags": []
   },
   "outputs": [],
   "source": [
    "combined[\"Embarked\"] = combined[\"Embarked\"].fillna(\"C\")\n",
    "combined[\"Embarked\"][combined[\"Embarked\"] == \"S\"] = 1\n",
    "combined[\"Embarked\"][combined[\"Embarked\"] == \"C\"] = 2\n",
    "combined[\"Embarked\"][combined[\"Embarked\"] == \"Q\"] = 3\n",
    "combined[\"Embarked\"] = combined[\"Embarked\"].astype(int)"
   ]
  },
  {
   "cell_type": "code",
   "execution_count": 54,
   "metadata": {
    "execution": {
     "iopub.execute_input": "2020-09-09T17:50:48.153599Z",
     "iopub.status.busy": "2020-09-09T17:50:48.152359Z",
     "iopub.status.idle": "2020-09-09T17:50:48.174316Z",
     "shell.execute_reply": "2020-09-09T17:50:48.174919Z"
    },
    "papermill": {
     "duration": 0.058402,
     "end_time": "2020-09-09T17:50:48.175086",
     "exception": false,
     "start_time": "2020-09-09T17:50:48.116684",
     "status": "completed"
    },
    "tags": []
   },
   "outputs": [
    {
     "data": {
      "text/html": [
       "<div>\n",
       "<style scoped>\n",
       "    .dataframe tbody tr th:only-of-type {\n",
       "        vertical-align: middle;\n",
       "    }\n",
       "\n",
       "    .dataframe tbody tr th {\n",
       "        vertical-align: top;\n",
       "    }\n",
       "\n",
       "    .dataframe thead th {\n",
       "        text-align: right;\n",
       "    }\n",
       "</style>\n",
       "<table border=\"1\" class=\"dataframe\">\n",
       "  <thead>\n",
       "    <tr style=\"text-align: right;\">\n",
       "      <th></th>\n",
       "      <th>Pclass</th>\n",
       "      <th>Sex</th>\n",
       "      <th>Age</th>\n",
       "      <th>SibSp</th>\n",
       "      <th>Parch</th>\n",
       "      <th>Fare</th>\n",
       "      <th>Cabin</th>\n",
       "      <th>Embarked</th>\n",
       "      <th>Title</th>\n",
       "      <th>Age_cat</th>\n",
       "      <th>...</th>\n",
       "      <th>T_SP</th>\n",
       "      <th>T_STONO</th>\n",
       "      <th>T_STONO2</th>\n",
       "      <th>T_STONOQ</th>\n",
       "      <th>T_SWPP</th>\n",
       "      <th>T_WC</th>\n",
       "      <th>T_WEP</th>\n",
       "      <th>T_x</th>\n",
       "      <th>Zero_Fare</th>\n",
       "      <th>Fare_cat</th>\n",
       "    </tr>\n",
       "  </thead>\n",
       "  <tbody>\n",
       "    <tr>\n",
       "      <th>0</th>\n",
       "      <td>3</td>\n",
       "      <td>0</td>\n",
       "      <td>22</td>\n",
       "      <td>1</td>\n",
       "      <td>0</td>\n",
       "      <td>7.2500</td>\n",
       "      <td>NaN</td>\n",
       "      <td>1</td>\n",
       "      <td>1</td>\n",
       "      <td>1</td>\n",
       "      <td>...</td>\n",
       "      <td>0</td>\n",
       "      <td>0</td>\n",
       "      <td>0</td>\n",
       "      <td>0</td>\n",
       "      <td>0</td>\n",
       "      <td>0</td>\n",
       "      <td>0</td>\n",
       "      <td>0</td>\n",
       "      <td>0</td>\n",
       "      <td>1</td>\n",
       "    </tr>\n",
       "    <tr>\n",
       "      <th>1</th>\n",
       "      <td>1</td>\n",
       "      <td>1</td>\n",
       "      <td>38</td>\n",
       "      <td>1</td>\n",
       "      <td>0</td>\n",
       "      <td>71.2833</td>\n",
       "      <td>C85</td>\n",
       "      <td>2</td>\n",
       "      <td>3</td>\n",
       "      <td>4</td>\n",
       "      <td>...</td>\n",
       "      <td>0</td>\n",
       "      <td>0</td>\n",
       "      <td>0</td>\n",
       "      <td>0</td>\n",
       "      <td>0</td>\n",
       "      <td>0</td>\n",
       "      <td>0</td>\n",
       "      <td>0</td>\n",
       "      <td>0</td>\n",
       "      <td>4</td>\n",
       "    </tr>\n",
       "    <tr>\n",
       "      <th>2</th>\n",
       "      <td>3</td>\n",
       "      <td>1</td>\n",
       "      <td>26</td>\n",
       "      <td>0</td>\n",
       "      <td>0</td>\n",
       "      <td>7.9250</td>\n",
       "      <td>NaN</td>\n",
       "      <td>1</td>\n",
       "      <td>2</td>\n",
       "      <td>3</td>\n",
       "      <td>...</td>\n",
       "      <td>0</td>\n",
       "      <td>0</td>\n",
       "      <td>1</td>\n",
       "      <td>0</td>\n",
       "      <td>0</td>\n",
       "      <td>0</td>\n",
       "      <td>0</td>\n",
       "      <td>0</td>\n",
       "      <td>0</td>\n",
       "      <td>2</td>\n",
       "    </tr>\n",
       "    <tr>\n",
       "      <th>3</th>\n",
       "      <td>1</td>\n",
       "      <td>1</td>\n",
       "      <td>35</td>\n",
       "      <td>1</td>\n",
       "      <td>0</td>\n",
       "      <td>53.1000</td>\n",
       "      <td>C123</td>\n",
       "      <td>1</td>\n",
       "      <td>3</td>\n",
       "      <td>4</td>\n",
       "      <td>...</td>\n",
       "      <td>0</td>\n",
       "      <td>0</td>\n",
       "      <td>0</td>\n",
       "      <td>0</td>\n",
       "      <td>0</td>\n",
       "      <td>0</td>\n",
       "      <td>0</td>\n",
       "      <td>1</td>\n",
       "      <td>0</td>\n",
       "      <td>4</td>\n",
       "    </tr>\n",
       "    <tr>\n",
       "      <th>4</th>\n",
       "      <td>3</td>\n",
       "      <td>0</td>\n",
       "      <td>35</td>\n",
       "      <td>0</td>\n",
       "      <td>0</td>\n",
       "      <td>8.0500</td>\n",
       "      <td>NaN</td>\n",
       "      <td>1</td>\n",
       "      <td>1</td>\n",
       "      <td>4</td>\n",
       "      <td>...</td>\n",
       "      <td>0</td>\n",
       "      <td>0</td>\n",
       "      <td>0</td>\n",
       "      <td>0</td>\n",
       "      <td>0</td>\n",
       "      <td>0</td>\n",
       "      <td>0</td>\n",
       "      <td>1</td>\n",
       "      <td>0</td>\n",
       "      <td>2</td>\n",
       "    </tr>\n",
       "  </tbody>\n",
       "</table>\n",
       "<p>5 rows × 49 columns</p>\n",
       "</div>"
      ],
      "text/plain": [
       "   Pclass  Sex  Age  SibSp  Parch     Fare Cabin  Embarked  Title  Age_cat  \\\n",
       "0       3    0   22      1      0   7.2500   NaN         1      1        1   \n",
       "1       1    1   38      1      0  71.2833   C85         2      3        4   \n",
       "2       3    1   26      0      0   7.9250   NaN         1      2        3   \n",
       "3       1    1   35      1      0  53.1000  C123         1      3        4   \n",
       "4       3    0   35      0      0   8.0500   NaN         1      1        4   \n",
       "\n",
       "   ...  T_SP  T_STONO  T_STONO2  T_STONOQ  T_SWPP  T_WC  T_WEP  T_x  \\\n",
       "0  ...     0        0         0         0       0     0      0    0   \n",
       "1  ...     0        0         0         0       0     0      0    0   \n",
       "2  ...     0        0         1         0       0     0      0    0   \n",
       "3  ...     0        0         0         0       0     0      0    1   \n",
       "4  ...     0        0         0         0       0     0      0    1   \n",
       "\n",
       "   Zero_Fare  Fare_cat  \n",
       "0          0         1  \n",
       "1          0         4  \n",
       "2          0         2  \n",
       "3          0         4  \n",
       "4          0         2  \n",
       "\n",
       "[5 rows x 49 columns]"
      ]
     },
     "execution_count": 54,
     "metadata": {},
     "output_type": "execute_result"
    }
   ],
   "source": [
    "combined.head()"
   ]
  },
  {
   "cell_type": "markdown",
   "metadata": {
    "papermill": {
     "duration": 0.03211,
     "end_time": "2020-09-09T17:50:48.239273",
     "exception": false,
     "start_time": "2020-09-09T17:50:48.207163",
     "status": "completed"
    },
    "tags": []
   },
   "source": [
    "### Processing Family column"
   ]
  },
  {
   "cell_type": "code",
   "execution_count": 55,
   "metadata": {
    "execution": {
     "iopub.execute_input": "2020-09-09T17:50:48.306974Z",
     "iopub.status.busy": "2020-09-09T17:50:48.305961Z",
     "iopub.status.idle": "2020-09-09T17:50:48.311640Z",
     "shell.execute_reply": "2020-09-09T17:50:48.312118Z"
    },
    "papermill": {
     "duration": 0.040786,
     "end_time": "2020-09-09T17:50:48.312278",
     "exception": false,
     "start_time": "2020-09-09T17:50:48.271492",
     "status": "completed"
    },
    "tags": []
   },
   "outputs": [],
   "source": [
    "#Creating a new feature which contains number of members of family\n",
    "combined['FamilySize'] = combined['SibSp'] + combined['Parch'] + 1"
   ]
  },
  {
   "cell_type": "code",
   "execution_count": 56,
   "metadata": {
    "execution": {
     "iopub.execute_input": "2020-09-09T17:50:48.385978Z",
     "iopub.status.busy": "2020-09-09T17:50:48.385065Z",
     "iopub.status.idle": "2020-09-09T17:50:48.388226Z",
     "shell.execute_reply": "2020-09-09T17:50:48.387574Z"
    },
    "papermill": {
     "duration": 0.044039,
     "end_time": "2020-09-09T17:50:48.388376",
     "exception": false,
     "start_time": "2020-09-09T17:50:48.344337",
     "status": "completed"
    },
    "tags": []
   },
   "outputs": [],
   "source": [
    "#Grouping FamilySize in different categories\n",
    "combined['FamilySize_cat'] = combined['FamilySize'].map(lambda x: 1 if x == 1 \n",
    "                                                            else (2 if 5 > x >= 2 \n",
    "                                                                  else (3 if 8 > x >= 5 \n",
    "                                                                       else 4 )\n",
    "                                                                 ))   "
   ]
  },
  {
   "cell_type": "code",
   "execution_count": 57,
   "metadata": {
    "execution": {
     "iopub.execute_input": "2020-09-09T17:50:48.461275Z",
     "iopub.status.busy": "2020-09-09T17:50:48.460617Z",
     "iopub.status.idle": "2020-09-09T17:50:48.462964Z",
     "shell.execute_reply": "2020-09-09T17:50:48.463595Z"
    },
    "papermill": {
     "duration": 0.042419,
     "end_time": "2020-09-09T17:50:48.463750",
     "exception": false,
     "start_time": "2020-09-09T17:50:48.421331",
     "status": "completed"
    },
    "tags": []
   },
   "outputs": [],
   "source": [
    "#Creating a new feature Alone\n",
    "combined['Alone'] = [1 if i == 1 else 0 for i in combined['FamilySize']]"
   ]
  },
  {
   "cell_type": "code",
   "execution_count": 58,
   "metadata": {
    "execution": {
     "iopub.execute_input": "2020-09-09T17:50:48.531172Z",
     "iopub.status.busy": "2020-09-09T17:50:48.530569Z",
     "iopub.status.idle": "2020-09-09T17:50:48.553658Z",
     "shell.execute_reply": "2020-09-09T17:50:48.553117Z"
    },
    "papermill": {
     "duration": 0.057948,
     "end_time": "2020-09-09T17:50:48.553780",
     "exception": false,
     "start_time": "2020-09-09T17:50:48.495832",
     "status": "completed"
    },
    "tags": []
   },
   "outputs": [
    {
     "data": {
      "text/html": [
       "<div>\n",
       "<style scoped>\n",
       "    .dataframe tbody tr th:only-of-type {\n",
       "        vertical-align: middle;\n",
       "    }\n",
       "\n",
       "    .dataframe tbody tr th {\n",
       "        vertical-align: top;\n",
       "    }\n",
       "\n",
       "    .dataframe thead th {\n",
       "        text-align: right;\n",
       "    }\n",
       "</style>\n",
       "<table border=\"1\" class=\"dataframe\">\n",
       "  <thead>\n",
       "    <tr style=\"text-align: right;\">\n",
       "      <th></th>\n",
       "      <th>Pclass</th>\n",
       "      <th>Sex</th>\n",
       "      <th>Age</th>\n",
       "      <th>SibSp</th>\n",
       "      <th>Parch</th>\n",
       "      <th>Fare</th>\n",
       "      <th>Cabin</th>\n",
       "      <th>Embarked</th>\n",
       "      <th>Title</th>\n",
       "      <th>Age_cat</th>\n",
       "      <th>...</th>\n",
       "      <th>T_STONOQ</th>\n",
       "      <th>T_SWPP</th>\n",
       "      <th>T_WC</th>\n",
       "      <th>T_WEP</th>\n",
       "      <th>T_x</th>\n",
       "      <th>Zero_Fare</th>\n",
       "      <th>Fare_cat</th>\n",
       "      <th>FamilySize</th>\n",
       "      <th>FamilySize_cat</th>\n",
       "      <th>Alone</th>\n",
       "    </tr>\n",
       "  </thead>\n",
       "  <tbody>\n",
       "    <tr>\n",
       "      <th>0</th>\n",
       "      <td>3</td>\n",
       "      <td>0</td>\n",
       "      <td>22</td>\n",
       "      <td>1</td>\n",
       "      <td>0</td>\n",
       "      <td>7.2500</td>\n",
       "      <td>NaN</td>\n",
       "      <td>1</td>\n",
       "      <td>1</td>\n",
       "      <td>1</td>\n",
       "      <td>...</td>\n",
       "      <td>0</td>\n",
       "      <td>0</td>\n",
       "      <td>0</td>\n",
       "      <td>0</td>\n",
       "      <td>0</td>\n",
       "      <td>0</td>\n",
       "      <td>1</td>\n",
       "      <td>2</td>\n",
       "      <td>2</td>\n",
       "      <td>0</td>\n",
       "    </tr>\n",
       "    <tr>\n",
       "      <th>1</th>\n",
       "      <td>1</td>\n",
       "      <td>1</td>\n",
       "      <td>38</td>\n",
       "      <td>1</td>\n",
       "      <td>0</td>\n",
       "      <td>71.2833</td>\n",
       "      <td>C85</td>\n",
       "      <td>2</td>\n",
       "      <td>3</td>\n",
       "      <td>4</td>\n",
       "      <td>...</td>\n",
       "      <td>0</td>\n",
       "      <td>0</td>\n",
       "      <td>0</td>\n",
       "      <td>0</td>\n",
       "      <td>0</td>\n",
       "      <td>0</td>\n",
       "      <td>4</td>\n",
       "      <td>2</td>\n",
       "      <td>2</td>\n",
       "      <td>0</td>\n",
       "    </tr>\n",
       "    <tr>\n",
       "      <th>2</th>\n",
       "      <td>3</td>\n",
       "      <td>1</td>\n",
       "      <td>26</td>\n",
       "      <td>0</td>\n",
       "      <td>0</td>\n",
       "      <td>7.9250</td>\n",
       "      <td>NaN</td>\n",
       "      <td>1</td>\n",
       "      <td>2</td>\n",
       "      <td>3</td>\n",
       "      <td>...</td>\n",
       "      <td>0</td>\n",
       "      <td>0</td>\n",
       "      <td>0</td>\n",
       "      <td>0</td>\n",
       "      <td>0</td>\n",
       "      <td>0</td>\n",
       "      <td>2</td>\n",
       "      <td>1</td>\n",
       "      <td>1</td>\n",
       "      <td>1</td>\n",
       "    </tr>\n",
       "    <tr>\n",
       "      <th>3</th>\n",
       "      <td>1</td>\n",
       "      <td>1</td>\n",
       "      <td>35</td>\n",
       "      <td>1</td>\n",
       "      <td>0</td>\n",
       "      <td>53.1000</td>\n",
       "      <td>C123</td>\n",
       "      <td>1</td>\n",
       "      <td>3</td>\n",
       "      <td>4</td>\n",
       "      <td>...</td>\n",
       "      <td>0</td>\n",
       "      <td>0</td>\n",
       "      <td>0</td>\n",
       "      <td>0</td>\n",
       "      <td>1</td>\n",
       "      <td>0</td>\n",
       "      <td>4</td>\n",
       "      <td>2</td>\n",
       "      <td>2</td>\n",
       "      <td>0</td>\n",
       "    </tr>\n",
       "    <tr>\n",
       "      <th>4</th>\n",
       "      <td>3</td>\n",
       "      <td>0</td>\n",
       "      <td>35</td>\n",
       "      <td>0</td>\n",
       "      <td>0</td>\n",
       "      <td>8.0500</td>\n",
       "      <td>NaN</td>\n",
       "      <td>1</td>\n",
       "      <td>1</td>\n",
       "      <td>4</td>\n",
       "      <td>...</td>\n",
       "      <td>0</td>\n",
       "      <td>0</td>\n",
       "      <td>0</td>\n",
       "      <td>0</td>\n",
       "      <td>1</td>\n",
       "      <td>0</td>\n",
       "      <td>2</td>\n",
       "      <td>1</td>\n",
       "      <td>1</td>\n",
       "      <td>1</td>\n",
       "    </tr>\n",
       "  </tbody>\n",
       "</table>\n",
       "<p>5 rows × 52 columns</p>\n",
       "</div>"
      ],
      "text/plain": [
       "   Pclass  Sex  Age  SibSp  Parch     Fare Cabin  Embarked  Title  Age_cat  \\\n",
       "0       3    0   22      1      0   7.2500   NaN         1      1        1   \n",
       "1       1    1   38      1      0  71.2833   C85         2      3        4   \n",
       "2       3    1   26      0      0   7.9250   NaN         1      2        3   \n",
       "3       1    1   35      1      0  53.1000  C123         1      3        4   \n",
       "4       3    0   35      0      0   8.0500   NaN         1      1        4   \n",
       "\n",
       "   ...  T_STONOQ  T_SWPP  T_WC  T_WEP  T_x  Zero_Fare  Fare_cat  FamilySize  \\\n",
       "0  ...         0       0     0      0    0          0         1           2   \n",
       "1  ...         0       0     0      0    0          0         4           2   \n",
       "2  ...         0       0     0      0    0          0         2           1   \n",
       "3  ...         0       0     0      0    1          0         4           2   \n",
       "4  ...         0       0     0      0    1          0         2           1   \n",
       "\n",
       "   FamilySize_cat  Alone  \n",
       "0               2      0  \n",
       "1               2      0  \n",
       "2               1      1  \n",
       "3               2      0  \n",
       "4               1      1  \n",
       "\n",
       "[5 rows x 52 columns]"
      ]
     },
     "execution_count": 58,
     "metadata": {},
     "output_type": "execute_result"
    }
   ],
   "source": [
    "combined.head()"
   ]
  },
  {
   "cell_type": "markdown",
   "metadata": {
    "papermill": {
     "duration": 0.031954,
     "end_time": "2020-09-09T17:50:48.618589",
     "exception": false,
     "start_time": "2020-09-09T17:50:48.586635",
     "status": "completed"
    },
    "tags": []
   },
   "source": [
    "### Processing Cabin column"
   ]
  },
  {
   "cell_type": "code",
   "execution_count": 59,
   "metadata": {
    "execution": {
     "iopub.execute_input": "2020-09-09T17:50:48.690024Z",
     "iopub.status.busy": "2020-09-09T17:50:48.689284Z",
     "iopub.status.idle": "2020-09-09T17:50:48.693078Z",
     "shell.execute_reply": "2020-09-09T17:50:48.692497Z"
    },
    "papermill": {
     "duration": 0.042177,
     "end_time": "2020-09-09T17:50:48.693197",
     "exception": false,
     "start_time": "2020-09-09T17:50:48.651020",
     "status": "completed"
    },
    "tags": []
   },
   "outputs": [],
   "source": [
    "#Filling null values in Cabin feature with 'U'\n",
    "combined['Cabin'] = combined['Cabin'].fillna('U')"
   ]
  },
  {
   "cell_type": "code",
   "execution_count": 60,
   "metadata": {
    "execution": {
     "iopub.execute_input": "2020-09-09T17:50:48.761709Z",
     "iopub.status.busy": "2020-09-09T17:50:48.760988Z",
     "iopub.status.idle": "2020-09-09T17:50:48.769102Z",
     "shell.execute_reply": "2020-09-09T17:50:48.769691Z"
    },
    "papermill": {
     "duration": 0.044057,
     "end_time": "2020-09-09T17:50:48.769847",
     "exception": false,
     "start_time": "2020-09-09T17:50:48.725790",
     "status": "completed"
    },
    "tags": []
   },
   "outputs": [],
   "source": [
    "#Keeping only first letter of Cabin name\n",
    "import re\n",
    "combined['Cabin'] = combined['Cabin'].map(lambda x: re.compile(\"([a-zA-Z]+)\").search(x).group())"
   ]
  },
  {
   "cell_type": "code",
   "execution_count": 61,
   "metadata": {
    "execution": {
     "iopub.execute_input": "2020-09-09T17:50:48.838761Z",
     "iopub.status.busy": "2020-09-09T17:50:48.838047Z",
     "iopub.status.idle": "2020-09-09T17:50:48.846116Z",
     "shell.execute_reply": "2020-09-09T17:50:48.846699Z"
    },
    "papermill": {
     "duration": 0.044066,
     "end_time": "2020-09-09T17:50:48.846865",
     "exception": false,
     "start_time": "2020-09-09T17:50:48.802799",
     "status": "completed"
    },
    "tags": []
   },
   "outputs": [
    {
     "data": {
      "text/plain": [
       "U    1007\n",
       "C      91\n",
       "B      65\n",
       "D      46\n",
       "E      41\n",
       "A      22\n",
       "F      21\n",
       "G       5\n",
       "T       1\n",
       "Name: Cabin, dtype: int64"
      ]
     },
     "execution_count": 61,
     "metadata": {},
     "output_type": "execute_result"
    }
   ],
   "source": [
    "combined['Cabin'].value_counts()"
   ]
  },
  {
   "cell_type": "code",
   "execution_count": 62,
   "metadata": {
    "execution": {
     "iopub.execute_input": "2020-09-09T17:50:48.919202Z",
     "iopub.status.busy": "2020-09-09T17:50:48.918508Z",
     "iopub.status.idle": "2020-09-09T17:50:48.920740Z",
     "shell.execute_reply": "2020-09-09T17:50:48.921248Z"
    },
    "papermill": {
     "duration": 0.041886,
     "end_time": "2020-09-09T17:50:48.921402",
     "exception": false,
     "start_time": "2020-09-09T17:50:48.879516",
     "status": "completed"
    },
    "tags": []
   },
   "outputs": [],
   "source": [
    "cabin_category = {'A':9, 'B':8, 'C':7, 'D':6, 'E':5, 'F':4, 'G':3, 'T':2, 'U':1}"
   ]
  },
  {
   "cell_type": "code",
   "execution_count": 63,
   "metadata": {
    "execution": {
     "iopub.execute_input": "2020-09-09T17:50:48.990807Z",
     "iopub.status.busy": "2020-09-09T17:50:48.990159Z",
     "iopub.status.idle": "2020-09-09T17:50:48.996185Z",
     "shell.execute_reply": "2020-09-09T17:50:48.996738Z"
    },
    "papermill": {
     "duration": 0.042388,
     "end_time": "2020-09-09T17:50:48.996904",
     "exception": false,
     "start_time": "2020-09-09T17:50:48.954516",
     "status": "completed"
    },
    "tags": []
   },
   "outputs": [],
   "source": [
    "combined['Cabin'] = combined['Cabin'].map(cabin_category)"
   ]
  },
  {
   "cell_type": "code",
   "execution_count": 64,
   "metadata": {
    "execution": {
     "iopub.execute_input": "2020-09-09T17:50:49.067445Z",
     "iopub.status.busy": "2020-09-09T17:50:49.066796Z",
     "iopub.status.idle": "2020-09-09T17:50:49.087519Z",
     "shell.execute_reply": "2020-09-09T17:50:49.088168Z"
    },
    "papermill": {
     "duration": 0.058047,
     "end_time": "2020-09-09T17:50:49.088328",
     "exception": false,
     "start_time": "2020-09-09T17:50:49.030281",
     "status": "completed"
    },
    "tags": []
   },
   "outputs": [
    {
     "data": {
      "text/html": [
       "<div>\n",
       "<style scoped>\n",
       "    .dataframe tbody tr th:only-of-type {\n",
       "        vertical-align: middle;\n",
       "    }\n",
       "\n",
       "    .dataframe tbody tr th {\n",
       "        vertical-align: top;\n",
       "    }\n",
       "\n",
       "    .dataframe thead th {\n",
       "        text-align: right;\n",
       "    }\n",
       "</style>\n",
       "<table border=\"1\" class=\"dataframe\">\n",
       "  <thead>\n",
       "    <tr style=\"text-align: right;\">\n",
       "      <th></th>\n",
       "      <th>Pclass</th>\n",
       "      <th>Sex</th>\n",
       "      <th>Age</th>\n",
       "      <th>SibSp</th>\n",
       "      <th>Parch</th>\n",
       "      <th>Fare</th>\n",
       "      <th>Cabin</th>\n",
       "      <th>Embarked</th>\n",
       "      <th>Title</th>\n",
       "      <th>Age_cat</th>\n",
       "      <th>...</th>\n",
       "      <th>T_STONOQ</th>\n",
       "      <th>T_SWPP</th>\n",
       "      <th>T_WC</th>\n",
       "      <th>T_WEP</th>\n",
       "      <th>T_x</th>\n",
       "      <th>Zero_Fare</th>\n",
       "      <th>Fare_cat</th>\n",
       "      <th>FamilySize</th>\n",
       "      <th>FamilySize_cat</th>\n",
       "      <th>Alone</th>\n",
       "    </tr>\n",
       "  </thead>\n",
       "  <tbody>\n",
       "    <tr>\n",
       "      <th>0</th>\n",
       "      <td>3</td>\n",
       "      <td>0</td>\n",
       "      <td>22</td>\n",
       "      <td>1</td>\n",
       "      <td>0</td>\n",
       "      <td>7.2500</td>\n",
       "      <td>1</td>\n",
       "      <td>1</td>\n",
       "      <td>1</td>\n",
       "      <td>1</td>\n",
       "      <td>...</td>\n",
       "      <td>0</td>\n",
       "      <td>0</td>\n",
       "      <td>0</td>\n",
       "      <td>0</td>\n",
       "      <td>0</td>\n",
       "      <td>0</td>\n",
       "      <td>1</td>\n",
       "      <td>2</td>\n",
       "      <td>2</td>\n",
       "      <td>0</td>\n",
       "    </tr>\n",
       "    <tr>\n",
       "      <th>1</th>\n",
       "      <td>1</td>\n",
       "      <td>1</td>\n",
       "      <td>38</td>\n",
       "      <td>1</td>\n",
       "      <td>0</td>\n",
       "      <td>71.2833</td>\n",
       "      <td>7</td>\n",
       "      <td>2</td>\n",
       "      <td>3</td>\n",
       "      <td>4</td>\n",
       "      <td>...</td>\n",
       "      <td>0</td>\n",
       "      <td>0</td>\n",
       "      <td>0</td>\n",
       "      <td>0</td>\n",
       "      <td>0</td>\n",
       "      <td>0</td>\n",
       "      <td>4</td>\n",
       "      <td>2</td>\n",
       "      <td>2</td>\n",
       "      <td>0</td>\n",
       "    </tr>\n",
       "    <tr>\n",
       "      <th>2</th>\n",
       "      <td>3</td>\n",
       "      <td>1</td>\n",
       "      <td>26</td>\n",
       "      <td>0</td>\n",
       "      <td>0</td>\n",
       "      <td>7.9250</td>\n",
       "      <td>1</td>\n",
       "      <td>1</td>\n",
       "      <td>2</td>\n",
       "      <td>3</td>\n",
       "      <td>...</td>\n",
       "      <td>0</td>\n",
       "      <td>0</td>\n",
       "      <td>0</td>\n",
       "      <td>0</td>\n",
       "      <td>0</td>\n",
       "      <td>0</td>\n",
       "      <td>2</td>\n",
       "      <td>1</td>\n",
       "      <td>1</td>\n",
       "      <td>1</td>\n",
       "    </tr>\n",
       "    <tr>\n",
       "      <th>3</th>\n",
       "      <td>1</td>\n",
       "      <td>1</td>\n",
       "      <td>35</td>\n",
       "      <td>1</td>\n",
       "      <td>0</td>\n",
       "      <td>53.1000</td>\n",
       "      <td>7</td>\n",
       "      <td>1</td>\n",
       "      <td>3</td>\n",
       "      <td>4</td>\n",
       "      <td>...</td>\n",
       "      <td>0</td>\n",
       "      <td>0</td>\n",
       "      <td>0</td>\n",
       "      <td>0</td>\n",
       "      <td>1</td>\n",
       "      <td>0</td>\n",
       "      <td>4</td>\n",
       "      <td>2</td>\n",
       "      <td>2</td>\n",
       "      <td>0</td>\n",
       "    </tr>\n",
       "    <tr>\n",
       "      <th>4</th>\n",
       "      <td>3</td>\n",
       "      <td>0</td>\n",
       "      <td>35</td>\n",
       "      <td>0</td>\n",
       "      <td>0</td>\n",
       "      <td>8.0500</td>\n",
       "      <td>1</td>\n",
       "      <td>1</td>\n",
       "      <td>1</td>\n",
       "      <td>4</td>\n",
       "      <td>...</td>\n",
       "      <td>0</td>\n",
       "      <td>0</td>\n",
       "      <td>0</td>\n",
       "      <td>0</td>\n",
       "      <td>1</td>\n",
       "      <td>0</td>\n",
       "      <td>2</td>\n",
       "      <td>1</td>\n",
       "      <td>1</td>\n",
       "      <td>1</td>\n",
       "    </tr>\n",
       "  </tbody>\n",
       "</table>\n",
       "<p>5 rows × 52 columns</p>\n",
       "</div>"
      ],
      "text/plain": [
       "   Pclass  Sex  Age  SibSp  Parch     Fare  Cabin  Embarked  Title  Age_cat  \\\n",
       "0       3    0   22      1      0   7.2500      1         1      1        1   \n",
       "1       1    1   38      1      0  71.2833      7         2      3        4   \n",
       "2       3    1   26      0      0   7.9250      1         1      2        3   \n",
       "3       1    1   35      1      0  53.1000      7         1      3        4   \n",
       "4       3    0   35      0      0   8.0500      1         1      1        4   \n",
       "\n",
       "   ...  T_STONOQ  T_SWPP  T_WC  T_WEP  T_x  Zero_Fare  Fare_cat  FamilySize  \\\n",
       "0  ...         0       0     0      0    0          0         1           2   \n",
       "1  ...         0       0     0      0    0          0         4           2   \n",
       "2  ...         0       0     0      0    0          0         2           1   \n",
       "3  ...         0       0     0      0    1          0         4           2   \n",
       "4  ...         0       0     0      0    1          0         2           1   \n",
       "\n",
       "   FamilySize_cat  Alone  \n",
       "0               2      0  \n",
       "1               2      0  \n",
       "2               1      1  \n",
       "3               2      0  \n",
       "4               1      1  \n",
       "\n",
       "[5 rows x 52 columns]"
      ]
     },
     "execution_count": 64,
     "metadata": {},
     "output_type": "execute_result"
    }
   ],
   "source": [
    "combined.head()"
   ]
  },
  {
   "cell_type": "code",
   "execution_count": 65,
   "metadata": {
    "execution": {
     "iopub.execute_input": "2020-09-09T17:50:49.158814Z",
     "iopub.status.busy": "2020-09-09T17:50:49.158189Z",
     "iopub.status.idle": "2020-09-09T17:50:49.162233Z",
     "shell.execute_reply": "2020-09-09T17:50:49.162779Z"
    },
    "papermill": {
     "duration": 0.041183,
     "end_time": "2020-09-09T17:50:49.162930",
     "exception": false,
     "start_time": "2020-09-09T17:50:49.121747",
     "status": "completed"
    },
    "tags": []
   },
   "outputs": [],
   "source": [
    "#Creating dummy variable from categorical variable\n",
    "dummy_col=['Title', 'Sex',  'Age_cat', 'SibSp', 'Parch', 'Fare_cat', 'Cabin', 'Embarked', 'Pclass', 'FamilySize_cat']"
   ]
  },
  {
   "cell_type": "code",
   "execution_count": 66,
   "metadata": {
    "execution": {
     "iopub.execute_input": "2020-09-09T17:50:49.233225Z",
     "iopub.status.busy": "2020-09-09T17:50:49.232612Z",
     "iopub.status.idle": "2020-09-09T17:50:49.247594Z",
     "shell.execute_reply": "2020-09-09T17:50:49.248073Z"
    },
    "papermill": {
     "duration": 0.052052,
     "end_time": "2020-09-09T17:50:49.248243",
     "exception": false,
     "start_time": "2020-09-09T17:50:49.196191",
     "status": "completed"
    },
    "tags": []
   },
   "outputs": [],
   "source": [
    "dummy = pd.get_dummies(combined[dummy_col], columns=dummy_col, drop_first=False)"
   ]
  },
  {
   "cell_type": "code",
   "execution_count": 67,
   "metadata": {
    "execution": {
     "iopub.execute_input": "2020-09-09T17:50:49.318233Z",
     "iopub.status.busy": "2020-09-09T17:50:49.317572Z",
     "iopub.status.idle": "2020-09-09T17:50:49.323771Z",
     "shell.execute_reply": "2020-09-09T17:50:49.324279Z"
    },
    "papermill": {
     "duration": 0.042813,
     "end_time": "2020-09-09T17:50:49.324445",
     "exception": false,
     "start_time": "2020-09-09T17:50:49.281632",
     "status": "completed"
    },
    "tags": []
   },
   "outputs": [],
   "source": [
    "combined = pd.concat([dummy, combined], axis = 1)"
   ]
  },
  {
   "cell_type": "markdown",
   "metadata": {
    "papermill": {
     "duration": 0.033571,
     "end_time": "2020-09-09T17:50:49.391578",
     "exception": false,
     "start_time": "2020-09-09T17:50:49.358007",
     "status": "completed"
    },
    "tags": []
   },
   "source": [
    "# Feature Engineering"
   ]
  },
  {
   "cell_type": "markdown",
   "metadata": {
    "papermill": {
     "duration": 0.033335,
     "end_time": "2020-09-09T17:50:49.458435",
     "exception": false,
     "start_time": "2020-09-09T17:50:49.425100",
     "status": "completed"
    },
    "tags": []
   },
   "source": [
    "### Creating more features"
   ]
  },
  {
   "cell_type": "code",
   "execution_count": 68,
   "metadata": {
    "execution": {
     "iopub.execute_input": "2020-09-09T17:50:49.528574Z",
     "iopub.status.busy": "2020-09-09T17:50:49.527892Z",
     "iopub.status.idle": "2020-09-09T17:50:49.551002Z",
     "shell.execute_reply": "2020-09-09T17:50:49.551496Z"
    },
    "papermill": {
     "duration": 0.060092,
     "end_time": "2020-09-09T17:50:49.551670",
     "exception": false,
     "start_time": "2020-09-09T17:50:49.491578",
     "status": "completed"
    },
    "tags": []
   },
   "outputs": [],
   "source": [
    "combined['FareCat_Sex'] = combined['Fare_cat']*combined['Sex']\n",
    "combined['Pcl_Sex'] = combined['Pclass']*combined['Sex']\n",
    "combined['Pcl_Title'] = combined['Pclass']*combined['Title']\n",
    "combined['Age_cat_Sex'] = combined['Age_cat']*combined['Sex']\n",
    "combined['Age_cat_Pclass'] = combined['Age_cat']*combined['Pclass']\n",
    "combined['Title_Sex'] = combined['Title']*combined['Sex']\n",
    "combined['Age_Fare'] = combined['Age_cat']*combined['Fare_cat']\n",
    "\n",
    "combined['SmallF'] = combined['FamilySize'].map(lambda s: 1 if  s == 2  else 0)\n",
    "combined['MedF']   = combined['FamilySize'].map(lambda s: 1 if 3 <= s <= 4 else 0)\n",
    "combined['LargeF'] = combined['FamilySize'].map(lambda s: 1 if s >= 5 else 0)\n",
    "combined['Senior'] = combined['Age'].map(lambda s:1 if s>70 else 0)"
   ]
  },
  {
   "cell_type": "code",
   "execution_count": 69,
   "metadata": {
    "execution": {
     "iopub.execute_input": "2020-09-09T17:50:49.621713Z",
     "iopub.status.busy": "2020-09-09T17:50:49.621004Z",
     "iopub.status.idle": "2020-09-09T17:50:49.640817Z",
     "shell.execute_reply": "2020-09-09T17:50:49.641428Z"
    },
    "papermill": {
     "duration": 0.056501,
     "end_time": "2020-09-09T17:50:49.641612",
     "exception": false,
     "start_time": "2020-09-09T17:50:49.585111",
     "status": "completed"
    },
    "tags": []
   },
   "outputs": [
    {
     "data": {
      "text/html": [
       "<div>\n",
       "<style scoped>\n",
       "    .dataframe tbody tr th:only-of-type {\n",
       "        vertical-align: middle;\n",
       "    }\n",
       "\n",
       "    .dataframe tbody tr th {\n",
       "        vertical-align: top;\n",
       "    }\n",
       "\n",
       "    .dataframe thead th {\n",
       "        text-align: right;\n",
       "    }\n",
       "</style>\n",
       "<table border=\"1\" class=\"dataframe\">\n",
       "  <thead>\n",
       "    <tr style=\"text-align: right;\">\n",
       "      <th></th>\n",
       "      <th>Title_1</th>\n",
       "      <th>Title_2</th>\n",
       "      <th>Title_3</th>\n",
       "      <th>Title_4</th>\n",
       "      <th>Title_5</th>\n",
       "      <th>Sex_0</th>\n",
       "      <th>Sex_1</th>\n",
       "      <th>Age_cat_0</th>\n",
       "      <th>Age_cat_1</th>\n",
       "      <th>Age_cat_2</th>\n",
       "      <th>...</th>\n",
       "      <th>Pcl_Sex</th>\n",
       "      <th>Pcl_Title</th>\n",
       "      <th>Age_cat_Sex</th>\n",
       "      <th>Age_cat_Pclass</th>\n",
       "      <th>Title_Sex</th>\n",
       "      <th>Age_Fare</th>\n",
       "      <th>SmallF</th>\n",
       "      <th>MedF</th>\n",
       "      <th>LargeF</th>\n",
       "      <th>Senior</th>\n",
       "    </tr>\n",
       "  </thead>\n",
       "  <tbody>\n",
       "    <tr>\n",
       "      <th>0</th>\n",
       "      <td>1</td>\n",
       "      <td>0</td>\n",
       "      <td>0</td>\n",
       "      <td>0</td>\n",
       "      <td>0</td>\n",
       "      <td>1</td>\n",
       "      <td>0</td>\n",
       "      <td>0</td>\n",
       "      <td>1</td>\n",
       "      <td>0</td>\n",
       "      <td>...</td>\n",
       "      <td>0</td>\n",
       "      <td>3</td>\n",
       "      <td>0</td>\n",
       "      <td>3</td>\n",
       "      <td>0</td>\n",
       "      <td>1</td>\n",
       "      <td>1</td>\n",
       "      <td>0</td>\n",
       "      <td>0</td>\n",
       "      <td>0</td>\n",
       "    </tr>\n",
       "    <tr>\n",
       "      <th>1</th>\n",
       "      <td>0</td>\n",
       "      <td>0</td>\n",
       "      <td>1</td>\n",
       "      <td>0</td>\n",
       "      <td>0</td>\n",
       "      <td>0</td>\n",
       "      <td>1</td>\n",
       "      <td>0</td>\n",
       "      <td>0</td>\n",
       "      <td>0</td>\n",
       "      <td>...</td>\n",
       "      <td>1</td>\n",
       "      <td>3</td>\n",
       "      <td>4</td>\n",
       "      <td>4</td>\n",
       "      <td>3</td>\n",
       "      <td>16</td>\n",
       "      <td>1</td>\n",
       "      <td>0</td>\n",
       "      <td>0</td>\n",
       "      <td>0</td>\n",
       "    </tr>\n",
       "    <tr>\n",
       "      <th>2</th>\n",
       "      <td>0</td>\n",
       "      <td>1</td>\n",
       "      <td>0</td>\n",
       "      <td>0</td>\n",
       "      <td>0</td>\n",
       "      <td>0</td>\n",
       "      <td>1</td>\n",
       "      <td>0</td>\n",
       "      <td>0</td>\n",
       "      <td>0</td>\n",
       "      <td>...</td>\n",
       "      <td>3</td>\n",
       "      <td>6</td>\n",
       "      <td>3</td>\n",
       "      <td>9</td>\n",
       "      <td>2</td>\n",
       "      <td>6</td>\n",
       "      <td>0</td>\n",
       "      <td>0</td>\n",
       "      <td>0</td>\n",
       "      <td>0</td>\n",
       "    </tr>\n",
       "    <tr>\n",
       "      <th>3</th>\n",
       "      <td>0</td>\n",
       "      <td>0</td>\n",
       "      <td>1</td>\n",
       "      <td>0</td>\n",
       "      <td>0</td>\n",
       "      <td>0</td>\n",
       "      <td>1</td>\n",
       "      <td>0</td>\n",
       "      <td>0</td>\n",
       "      <td>0</td>\n",
       "      <td>...</td>\n",
       "      <td>1</td>\n",
       "      <td>3</td>\n",
       "      <td>4</td>\n",
       "      <td>4</td>\n",
       "      <td>3</td>\n",
       "      <td>16</td>\n",
       "      <td>1</td>\n",
       "      <td>0</td>\n",
       "      <td>0</td>\n",
       "      <td>0</td>\n",
       "    </tr>\n",
       "    <tr>\n",
       "      <th>4</th>\n",
       "      <td>1</td>\n",
       "      <td>0</td>\n",
       "      <td>0</td>\n",
       "      <td>0</td>\n",
       "      <td>0</td>\n",
       "      <td>1</td>\n",
       "      <td>0</td>\n",
       "      <td>0</td>\n",
       "      <td>0</td>\n",
       "      <td>0</td>\n",
       "      <td>...</td>\n",
       "      <td>0</td>\n",
       "      <td>3</td>\n",
       "      <td>0</td>\n",
       "      <td>12</td>\n",
       "      <td>0</td>\n",
       "      <td>8</td>\n",
       "      <td>0</td>\n",
       "      <td>0</td>\n",
       "      <td>0</td>\n",
       "      <td>0</td>\n",
       "    </tr>\n",
       "  </tbody>\n",
       "</table>\n",
       "<p>5 rows × 114 columns</p>\n",
       "</div>"
      ],
      "text/plain": [
       "   Title_1  Title_2  Title_3  Title_4  Title_5  Sex_0  Sex_1  Age_cat_0  \\\n",
       "0        1        0        0        0        0      1      0          0   \n",
       "1        0        0        1        0        0      0      1          0   \n",
       "2        0        1        0        0        0      0      1          0   \n",
       "3        0        0        1        0        0      0      1          0   \n",
       "4        1        0        0        0        0      1      0          0   \n",
       "\n",
       "   Age_cat_1  Age_cat_2  ...  Pcl_Sex  Pcl_Title  Age_cat_Sex  Age_cat_Pclass  \\\n",
       "0          1          0  ...        0          3            0               3   \n",
       "1          0          0  ...        1          3            4               4   \n",
       "2          0          0  ...        3          6            3               9   \n",
       "3          0          0  ...        1          3            4               4   \n",
       "4          0          0  ...        0          3            0              12   \n",
       "\n",
       "   Title_Sex  Age_Fare  SmallF  MedF  LargeF  Senior  \n",
       "0          0         1       1     0       0       0  \n",
       "1          3        16       1     0       0       0  \n",
       "2          2         6       0     0       0       0  \n",
       "3          3        16       1     0       0       0  \n",
       "4          0         8       0     0       0       0  \n",
       "\n",
       "[5 rows x 114 columns]"
      ]
     },
     "execution_count": 69,
     "metadata": {},
     "output_type": "execute_result"
    }
   ],
   "source": [
    "combined.head()"
   ]
  },
  {
   "cell_type": "code",
   "execution_count": 70,
   "metadata": {
    "execution": {
     "iopub.execute_input": "2020-09-09T17:50:49.711946Z",
     "iopub.status.busy": "2020-09-09T17:50:49.711277Z",
     "iopub.status.idle": "2020-09-09T17:50:49.724528Z",
     "shell.execute_reply": "2020-09-09T17:50:49.725110Z"
    },
    "papermill": {
     "duration": 0.050019,
     "end_time": "2020-09-09T17:50:49.725279",
     "exception": false,
     "start_time": "2020-09-09T17:50:49.675260",
     "status": "completed"
    },
    "tags": []
   },
   "outputs": [
    {
     "data": {
      "text/plain": [
       "Age_Fare    4.0\n",
       "Title_1     1.0\n",
       "dtype: float64"
      ]
     },
     "execution_count": 70,
     "metadata": {},
     "output_type": "execute_result"
    }
   ],
   "source": [
    "combined[['Age_Fare','Title_1']].median()"
   ]
  },
  {
   "cell_type": "markdown",
   "metadata": {
    "papermill": {
     "duration": 0.034045,
     "end_time": "2020-09-09T17:50:49.793719",
     "exception": false,
     "start_time": "2020-09-09T17:50:49.759674",
     "status": "completed"
    },
    "tags": []
   },
   "source": [
    "# Modelling"
   ]
  },
  {
   "cell_type": "code",
   "execution_count": 71,
   "metadata": {
    "execution": {
     "iopub.execute_input": "2020-09-09T17:50:49.866523Z",
     "iopub.status.busy": "2020-09-09T17:50:49.865817Z",
     "iopub.status.idle": "2020-09-09T17:50:49.874602Z",
     "shell.execute_reply": "2020-09-09T17:50:49.875156Z"
    },
    "papermill": {
     "duration": 0.046771,
     "end_time": "2020-09-09T17:50:49.875316",
     "exception": false,
     "start_time": "2020-09-09T17:50:49.828545",
     "status": "completed"
    },
    "tags": []
   },
   "outputs": [],
   "source": [
    "#Seperating training, test and target datasets from combined dataset\n",
    "X_train = combined[:train.shape[0]]\n",
    "X_test = combined[train.shape[0]:]\n",
    "y = targets\n",
    "X_train['Y'] = y\n",
    "df = X_train\n",
    "X = df.drop('Y', axis=1)\n",
    "y = df.Y"
   ]
  },
  {
   "cell_type": "code",
   "execution_count": 72,
   "metadata": {
    "execution": {
     "iopub.execute_input": "2020-09-09T17:50:49.948341Z",
     "iopub.status.busy": "2020-09-09T17:50:49.947688Z",
     "iopub.status.idle": "2020-09-09T17:50:49.952933Z",
     "shell.execute_reply": "2020-09-09T17:50:49.952160Z"
    },
    "papermill": {
     "duration": 0.04321,
     "end_time": "2020-09-09T17:50:49.953062",
     "exception": false,
     "start_time": "2020-09-09T17:50:49.909852",
     "status": "completed"
    },
    "tags": []
   },
   "outputs": [],
   "source": [
    "from sklearn.model_selection import train_test_split\n",
    "from sklearn.metrics import accuracy_score"
   ]
  },
  {
   "cell_type": "code",
   "execution_count": 73,
   "metadata": {
    "execution": {
     "iopub.execute_input": "2020-09-09T17:50:50.028913Z",
     "iopub.status.busy": "2020-09-09T17:50:50.028106Z",
     "iopub.status.idle": "2020-09-09T17:50:50.032878Z",
     "shell.execute_reply": "2020-09-09T17:50:50.032330Z"
    },
    "papermill": {
     "duration": 0.045329,
     "end_time": "2020-09-09T17:50:50.033006",
     "exception": false,
     "start_time": "2020-09-09T17:50:49.987677",
     "status": "completed"
    },
    "tags": []
   },
   "outputs": [],
   "source": [
    "#Splitting training dataset into training and validation dataset\n",
    "x_train, x_valid, y_train, y_valid = train_test_split(X, y, test_size=0.2, random_state=10)"
   ]
  },
  {
   "cell_type": "code",
   "execution_count": 74,
   "metadata": {
    "execution": {
     "iopub.execute_input": "2020-09-09T17:50:50.107711Z",
     "iopub.status.busy": "2020-09-09T17:50:50.106981Z",
     "iopub.status.idle": "2020-09-09T17:50:50.132037Z",
     "shell.execute_reply": "2020-09-09T17:50:50.131193Z"
    },
    "papermill": {
     "duration": 0.064435,
     "end_time": "2020-09-09T17:50:50.132169",
     "exception": false,
     "start_time": "2020-09-09T17:50:50.067734",
     "status": "completed"
    },
    "tags": []
   },
   "outputs": [],
   "source": [
    "#Creating dmatrix to train xgboost\n",
    "d_train = xgb.DMatrix(x_train, label=y_train)\n",
    "d_valid = xgb.DMatrix(x_valid, label=y_valid)\n",
    "d_test = xgb.DMatrix(X_test)"
   ]
  },
  {
   "cell_type": "code",
   "execution_count": 75,
   "metadata": {
    "execution": {
     "iopub.execute_input": "2020-09-09T17:50:50.205203Z",
     "iopub.status.busy": "2020-09-09T17:50:50.204218Z",
     "iopub.status.idle": "2020-09-09T17:50:50.210779Z",
     "shell.execute_reply": "2020-09-09T17:50:50.211220Z"
    },
    "papermill": {
     "duration": 0.044702,
     "end_time": "2020-09-09T17:50:50.211371",
     "exception": false,
     "start_time": "2020-09-09T17:50:50.166669",
     "status": "completed"
    },
    "tags": []
   },
   "outputs": [],
   "source": [
    "params = {\n",
    "        'objective':'binary:logistic',\n",
    "        'eta': 0.3,\n",
    "        'max_depth':9,\n",
    "        'learning_rate':0.03,\n",
    "        'eval_metric':'auc',\n",
    "        'min_child_weight':1,\n",
    "        'subsample':1,\n",
    "        'colsample_bytree':0.4,\n",
    "        'seed':29,\n",
    "        'reg_lambda':2.8,\n",
    "        'reg_alpha':0,\n",
    "        'gamma':0,\n",
    "        'scale_pos_weight':1,\n",
    "        'n_estimators': 600,\n",
    "        'nthread':-1\n",
    "}"
   ]
  },
  {
   "cell_type": "code",
   "execution_count": 76,
   "metadata": {
    "execution": {
     "iopub.execute_input": "2020-09-09T17:50:50.284320Z",
     "iopub.status.busy": "2020-09-09T17:50:50.283286Z",
     "iopub.status.idle": "2020-09-09T17:50:50.287747Z",
     "shell.execute_reply": "2020-09-09T17:50:50.288275Z"
    },
    "papermill": {
     "duration": 0.042854,
     "end_time": "2020-09-09T17:50:50.288425",
     "exception": false,
     "start_time": "2020-09-09T17:50:50.245571",
     "status": "completed"
    },
    "tags": []
   },
   "outputs": [],
   "source": [
    "watchlist = [(d_train, 'train'), (d_valid, 'valid')]\n",
    "nrounds=10000 "
   ]
  },
  {
   "cell_type": "code",
   "execution_count": 77,
   "metadata": {
    "execution": {
     "iopub.execute_input": "2020-09-09T17:50:50.361692Z",
     "iopub.status.busy": "2020-09-09T17:50:50.360703Z",
     "iopub.status.idle": "2020-09-09T17:50:52.459012Z",
     "shell.execute_reply": "2020-09-09T17:50:52.459606Z"
    },
    "papermill": {
     "duration": 2.137015,
     "end_time": "2020-09-09T17:50:52.459832",
     "exception": false,
     "start_time": "2020-09-09T17:50:50.322817",
     "status": "completed"
    },
    "tags": []
   },
   "outputs": [
    {
     "name": "stdout",
     "output_type": "stream",
     "text": [
      "[16:31:11] WARNING: /workspace/src/learner.cc:328: \n",
      "Parameters: { n_estimators } might not be used.\n",
      "\n",
      "  This may not be accurate due to some parameters are only used in language bindings but\n",
      "  passed down to XGBoost core.  Or some parameters are not used but slip through this\n",
      "  verification. Please open an issue if you find above cases.\n",
      "\n",
      "\n",
      "[0]\ttrain-auc:0.89267\tvalid-auc:0.87943\n",
      "Multiple eval metrics have been passed: 'valid-auc' will be used for early stopping.\n",
      "\n",
      "Will train until valid-auc hasn't improved in 600 rounds.\n",
      "[10]\ttrain-auc:0.90073\tvalid-auc:0.89167\n",
      "[20]\ttrain-auc:0.90500\tvalid-auc:0.89709\n",
      "[30]\ttrain-auc:0.91603\tvalid-auc:0.90780\n",
      "[40]\ttrain-auc:0.92301\tvalid-auc:0.91052\n",
      "[50]\ttrain-auc:0.93076\tvalid-auc:0.91329\n",
      "[60]\ttrain-auc:0.93683\tvalid-auc:0.91237\n",
      "[70]\ttrain-auc:0.94175\tvalid-auc:0.91012\n",
      "[80]\ttrain-auc:0.94486\tvalid-auc:0.91131\n",
      "[90]\ttrain-auc:0.94976\tvalid-auc:0.91184\n",
      "[100]\ttrain-auc:0.95322\tvalid-auc:0.91078\n",
      "[110]\ttrain-auc:0.95721\tvalid-auc:0.91118\n",
      "[120]\ttrain-auc:0.96076\tvalid-auc:0.91184\n",
      "[130]\ttrain-auc:0.96387\tvalid-auc:0.91184\n",
      "[140]\ttrain-auc:0.96646\tvalid-auc:0.91250\n",
      "[150]\ttrain-auc:0.96833\tvalid-auc:0.91197\n",
      "[160]\ttrain-auc:0.96999\tvalid-auc:0.91118\n",
      "[170]\ttrain-auc:0.97173\tvalid-auc:0.91025\n",
      "[180]\ttrain-auc:0.97324\tvalid-auc:0.91091\n",
      "[190]\ttrain-auc:0.97511\tvalid-auc:0.90972\n",
      "[200]\ttrain-auc:0.97571\tvalid-auc:0.90919\n",
      "[210]\ttrain-auc:0.97697\tvalid-auc:0.90880\n",
      "[220]\ttrain-auc:0.97772\tvalid-auc:0.90853\n",
      "[230]\ttrain-auc:0.97861\tvalid-auc:0.90774\n",
      "[240]\ttrain-auc:0.97948\tvalid-auc:0.90747\n",
      "[250]\ttrain-auc:0.98050\tvalid-auc:0.90734\n",
      "[260]\ttrain-auc:0.98125\tvalid-auc:0.90747\n",
      "[270]\ttrain-auc:0.98220\tvalid-auc:0.90602\n",
      "[280]\ttrain-auc:0.98289\tvalid-auc:0.90575\n",
      "[290]\ttrain-auc:0.98384\tvalid-auc:0.90522\n",
      "[300]\ttrain-auc:0.98427\tvalid-auc:0.90549\n",
      "[310]\ttrain-auc:0.98496\tvalid-auc:0.90390\n",
      "[320]\ttrain-auc:0.98566\tvalid-auc:0.90403\n",
      "[330]\ttrain-auc:0.98631\tvalid-auc:0.90284\n",
      "[340]\ttrain-auc:0.98676\tvalid-auc:0.90165\n",
      "[350]\ttrain-auc:0.98721\tvalid-auc:0.90139\n",
      "[360]\ttrain-auc:0.98765\tvalid-auc:0.90165\n",
      "[370]\ttrain-auc:0.98802\tvalid-auc:0.90126\n",
      "[380]\ttrain-auc:0.98833\tvalid-auc:0.90139\n",
      "[390]\ttrain-auc:0.98874\tvalid-auc:0.90020\n",
      "[400]\ttrain-auc:0.98918\tvalid-auc:0.89941\n",
      "[410]\ttrain-auc:0.98930\tvalid-auc:0.89967\n",
      "[420]\ttrain-auc:0.98971\tvalid-auc:0.89941\n",
      "[430]\ttrain-auc:0.99004\tvalid-auc:0.89954\n",
      "[440]\ttrain-auc:0.99014\tvalid-auc:0.89914\n",
      "[450]\ttrain-auc:0.99032\tvalid-auc:0.89821\n",
      "[460]\ttrain-auc:0.99063\tvalid-auc:0.89768\n",
      "[470]\ttrain-auc:0.99079\tvalid-auc:0.89768\n",
      "[480]\ttrain-auc:0.99105\tvalid-auc:0.89768\n",
      "[490]\ttrain-auc:0.99126\tvalid-auc:0.89729\n",
      "[500]\ttrain-auc:0.99148\tvalid-auc:0.89702\n",
      "[510]\ttrain-auc:0.99173\tvalid-auc:0.89689\n",
      "[520]\ttrain-auc:0.99187\tvalid-auc:0.89636\n",
      "[530]\ttrain-auc:0.99212\tvalid-auc:0.89570\n",
      "[540]\ttrain-auc:0.99225\tvalid-auc:0.89477\n",
      "[550]\ttrain-auc:0.99236\tvalid-auc:0.89491\n",
      "[560]\ttrain-auc:0.99256\tvalid-auc:0.89464\n",
      "[570]\ttrain-auc:0.99269\tvalid-auc:0.89398\n",
      "[580]\ttrain-auc:0.99285\tvalid-auc:0.89411\n",
      "[590]\ttrain-auc:0.99298\tvalid-auc:0.89398\n",
      "[600]\ttrain-auc:0.99304\tvalid-auc:0.89319\n",
      "[610]\ttrain-auc:0.99314\tvalid-auc:0.89187\n",
      "[620]\ttrain-auc:0.99332\tvalid-auc:0.89173\n",
      "[630]\ttrain-auc:0.99345\tvalid-auc:0.89213\n",
      "[640]\ttrain-auc:0.99355\tvalid-auc:0.89147\n",
      "[650]\ttrain-auc:0.99362\tvalid-auc:0.89147\n",
      "Stopping. Best iteration:\n",
      "[51]\ttrain-auc:0.93051\tvalid-auc:0.91356\n",
      "\n"
     ]
    }
   ],
   "source": [
    "model = xgb.train(params, d_train, nrounds, watchlist, early_stopping_rounds=600, \n",
    "                           maximize=True, verbose_eval=10)"
   ]
  },
  {
   "cell_type": "code",
   "execution_count": 78,
   "metadata": {
    "execution": {
     "iopub.execute_input": "2020-09-09T17:50:52.548453Z",
     "iopub.status.busy": "2020-09-09T17:50:52.547390Z",
     "iopub.status.idle": "2020-09-09T17:50:52.550914Z",
     "shell.execute_reply": "2020-09-09T17:50:52.550223Z"
    },
    "papermill": {
     "duration": 0.053406,
     "end_time": "2020-09-09T17:50:52.551034",
     "exception": false,
     "start_time": "2020-09-09T17:50:52.497628",
     "status": "completed"
    },
    "tags": []
   },
   "outputs": [],
   "source": [
    "#By using these leaks we can get 0.85 to 0.86 score. If we do not use these leaks \n",
    "#we can achieve score of 0.77 to 0.78.\n",
    "leaks = {\n",
    "897:1,\n",
    "899:1, \n",
    "930:1,\n",
    "932:1,\n",
    "949:1,\n",
    "987:1,\n",
    "995:1,\n",
    "998:1,\n",
    "999:1,\n",
    "1016:1,\n",
    "1047:1,\n",
    "1083:1,\n",
    "1097:1,\n",
    "1099:1,\n",
    "1103:1,\n",
    "1115:1,\n",
    "1118:1,\n",
    "1135:1,\n",
    "1143:1,\n",
    "1152:1, \n",
    "1153:1,\n",
    "1171:1,\n",
    "1182:1,\n",
    "1192:1,\n",
    "1203:1,\n",
    "1233:1,\n",
    "1250:1,\n",
    "1264:1,\n",
    "1286:1,\n",
    "935:0,\n",
    "957:0,\n",
    "972:0,\n",
    "988:0,\n",
    "1004:0,\n",
    "1006:0,\n",
    "1011:0,\n",
    "1105:0,\n",
    "1130:0,\n",
    "1138:0,\n",
    "1173:0,\n",
    "1284:0,\n",
    "}"
   ]
  },
  {
   "cell_type": "code",
   "execution_count": 79,
   "metadata": {
    "execution": {
     "iopub.execute_input": "2020-09-09T17:50:52.636286Z",
     "iopub.status.busy": "2020-09-09T17:50:52.635578Z",
     "iopub.status.idle": "2020-09-09T17:50:52.914115Z",
     "shell.execute_reply": "2020-09-09T17:50:52.914719Z"
    },
    "papermill": {
     "duration": 0.325841,
     "end_time": "2020-09-09T17:50:52.914884",
     "exception": false,
     "start_time": "2020-09-09T17:50:52.589043",
     "status": "completed"
    },
    "tags": []
   },
   "outputs": [],
   "source": [
    "sub = pd.DataFrame()\n",
    "sub['PassengerId'] = test['PassengerId']\n",
    "sub['Survived'] = model.predict(d_test)\n",
    "sub['Survived'] = sub['Survived'].apply(lambda x: 1 if x>0.8 else 0)\n",
    "sub['Survived'] = sub.apply(lambda r: leaks[int(r['PassengerId'])] if int(r['PassengerId']) in leaks else r['Survived'], axis=1)\n",
    "sub.to_csv('sub_titan.csv', index=False)"
   ]
  },
  {
   "cell_type": "code",
   "execution_count": null,
   "metadata": {
    "papermill": {
     "duration": 0.078065,
     "end_time": "2020-09-09T17:50:53.033526",
     "exception": false,
     "start_time": "2020-09-09T17:50:52.955461",
     "status": "completed"
    },
    "tags": []
   },
   "outputs": [],
   "source": []
  }
 ],
 "metadata": {
  "kernelspec": {
   "display_name": "Python 3",
   "language": "python",
   "name": "python3"
  },
  "language_info": {
   "codemirror_mode": {
    "name": "ipython",
    "version": 3
   },
   "file_extension": ".py",
   "mimetype": "text/x-python",
   "name": "python",
   "nbconvert_exporter": "python",
   "pygments_lexer": "ipython3",
   "version": "3.7.7"
  },
  "papermill": {
   "duration": 20.213043,
   "end_time": "2020-09-09T17:50:53.180087",
   "environment_variables": {},
   "exception": null,
   "input_path": "__notebook__.ipynb",
   "output_path": "__notebook__.ipynb",
   "parameters": {},
   "start_time": "2020-09-09T17:50:32.967044",
   "version": "2.1.0"
  }
 },
 "nbformat": 4,
 "nbformat_minor": 4
}
